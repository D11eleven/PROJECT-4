{
 "cells": [
  {
   "cell_type": "code",
   "execution_count": null,
   "metadata": {},
   "outputs": [],
   "source": [
    "# Dependencies\n",
    "import pandas as pd\n",
    "import numpy as np\n",
    "import warnings\n",
    "warnings.filterwarnings('ignore')\n"
   ]
  },
  {
   "cell_type": "markdown",
   "metadata": {},
   "source": [
    "# Preprocessing the Patient Data file"
   ]
  },
  {
   "cell_type": "code",
   "execution_count": null,
   "metadata": {},
   "outputs": [],
   "source": [
    "# Name of the CSV file\n",
    "file = '../Resources/2021VAERSDATA.csv'\n"
   ]
  },
  {
   "cell_type": "code",
   "execution_count": null,
   "metadata": {},
   "outputs": [],
   "source": [
    "# The correct encoding must be used to read the CSV in pandas\n",
    "data_df = pd.read_csv(file, encoding=\"ISO-8859-1\", low_memory=False)\n"
   ]
  },
  {
   "cell_type": "code",
   "execution_count": null,
   "metadata": {},
   "outputs": [],
   "source": [
    "data_df.head()\n"
   ]
  },
  {
   "cell_type": "code",
   "execution_count": null,
   "metadata": {},
   "outputs": [],
   "source": [
    "data_df['STATE'].unique()"
   ]
  },
  {
   "cell_type": "code",
   "execution_count": null,
   "metadata": {},
   "outputs": [],
   "source": [
    "data_df.columns\n"
   ]
  },
  {
   "cell_type": "code",
   "execution_count": null,
   "metadata": {},
   "outputs": [],
   "source": [
    "patient_data=data_df[['VAERS_ID', 'AGE_YRS', 'SEX', 'OTHER_MEDS', 'CUR_ILL', 'HISTORY', 'PRIOR_VAX', 'ALLERGIES']]\n",
    "patient_data.head()\n"
   ]
  },
  {
   "cell_type": "code",
   "execution_count": null,
   "metadata": {},
   "outputs": [],
   "source": [
    "patient_data.duplicated(subset='VAERS_ID').sum()\n"
   ]
  },
  {
   "cell_type": "code",
   "execution_count": null,
   "metadata": {},
   "outputs": [],
   "source": [
    "patient_data['AGE_YRS'].isnull().sum()\n"
   ]
  },
  {
   "cell_type": "code",
   "execution_count": null,
   "metadata": {},
   "outputs": [],
   "source": [
    "patient_data.dropna(subset = ['AGE_YRS'], inplace=True)\n"
   ]
  },
  {
   "cell_type": "code",
   "execution_count": null,
   "metadata": {},
   "outputs": [],
   "source": [
    "patient_data['SEX'].isnull().sum()\n"
   ]
  },
  {
   "cell_type": "code",
   "execution_count": null,
   "metadata": {},
   "outputs": [],
   "source": [
    "patient_data['OTHER_MEDS'] = patient_data['OTHER_MEDS'].replace(to_replace=['None', 'none', 'na', 'NA', 'Na'], value = 0)\n",
    "patient_data['OTHER_MEDS'] = patient_data['OTHER_MEDS'].fillna(0)\n",
    "patient_data['OTHER_MEDS'] = patient_data['OTHER_MEDS'].apply(lambda x: 1 if str(type(x))==\"<class 'str'>\" else x)\n"
   ]
  },
  {
   "cell_type": "code",
   "execution_count": null,
   "metadata": {},
   "outputs": [],
   "source": [
    "patient_data['CUR_ILL'] = patient_data['CUR_ILL'].replace(to_replace=['None', 'none', 'na', 'NA', 'Na'], value = 0)\n",
    "patient_data['CUR_ILL'] = patient_data['CUR_ILL'].fillna(0)\n",
    "patient_data['CUR_ILL'] = patient_data['CUR_ILL'].apply(lambda x: 1 if str(type(x))==\"<class 'str'>\" else x)\n"
   ]
  },
  {
   "cell_type": "code",
   "execution_count": null,
   "metadata": {},
   "outputs": [],
   "source": [
    "patient_data['HISTORY'] = patient_data['HISTORY'].replace(to_replace=['None', 'none', 'na', 'NA', 'Na'], value = 0)\n",
    "patient_data['HISTORY'] = patient_data['HISTORY'].fillna(0)\n",
    "patient_data['HISTORY'] = patient_data['HISTORY'].apply(lambda x: 1 if str(type(x))==\"<class 'str'>\" else x)\n"
   ]
  },
  {
   "cell_type": "code",
   "execution_count": null,
   "metadata": {},
   "outputs": [],
   "source": [
    "patient_data['PRIOR_VAX'] = patient_data['PRIOR_VAX'].replace(to_replace=['None', 'none', 'na', 'NA', 'Na'], value = 0)\n",
    "patient_data['PRIOR_VAX'] = patient_data['PRIOR_VAX'].fillna(0)\n",
    "patient_data['PRIOR_VAX'] = patient_data['PRIOR_VAX'].apply(lambda x: 1 if str(type(x))==\"<class 'str'>\" else x)\n"
   ]
  },
  {
   "cell_type": "code",
   "execution_count": null,
   "metadata": {},
   "outputs": [],
   "source": [
    "patient_data['ALLERGIES'] = patient_data['ALLERGIES'].replace(to_replace=['None', 'none', 'na', 'NA', 'Na'], value = 0)\n",
    "patient_data['ALLERGIES'] = patient_data['ALLERGIES'].fillna(0)\n",
    "patient_data['ALLERGIES'] = patient_data['ALLERGIES'].apply(lambda x: 1 if str(type(x))==\"<class 'str'>\" else x)\n"
   ]
  },
  {
   "cell_type": "code",
   "execution_count": null,
   "metadata": {},
   "outputs": [],
   "source": [
    "patient_data.head()\n"
   ]
  },
  {
   "cell_type": "code",
   "execution_count": null,
   "metadata": {},
   "outputs": [],
   "source": [
    "patient_data = patient_data.loc[patient_data['SEX'] != 'U']\n"
   ]
  },
  {
   "cell_type": "code",
   "execution_count": null,
   "metadata": {},
   "outputs": [],
   "source": [
    "patient_sex = pd.get_dummies(patient_data['SEX'])\n",
    "patient_sex\n"
   ]
  },
  {
   "cell_type": "code",
   "execution_count": null,
   "metadata": {},
   "outputs": [],
   "source": [
    "patient_features = pd.merge(\n",
    "    left=patient_data,\n",
    "    right=patient_sex,\n",
    "    left_index=True,\n",
    "    right_index=True,\n",
    ")\n",
    "patient_features.drop(['SEX'], axis = 1, inplace = True)\n",
    "patient_features\n"
   ]
  },
  {
   "cell_type": "markdown",
   "metadata": {},
   "source": [
    "# Preprocessing the Symptoms file"
   ]
  },
  {
   "cell_type": "code",
   "execution_count": null,
   "metadata": {},
   "outputs": [],
   "source": [
    "# Name of the CSV file\n",
    "file2 = '../Resources/2021VAERSSYMPTOMS.csv'\n"
   ]
  },
  {
   "cell_type": "code",
   "execution_count": null,
   "metadata": {},
   "outputs": [],
   "source": [
    "# The correct encoding must be used to read the CSV in pandas\n",
    "symptoms_df = pd.read_csv(file2, encoding=\"ISO-8859-1\", low_memory=False)\n"
   ]
  },
  {
   "cell_type": "code",
   "execution_count": null,
   "metadata": {},
   "outputs": [],
   "source": [
    "symptoms_df\n"
   ]
  },
  {
   "cell_type": "code",
   "execution_count": null,
   "metadata": {},
   "outputs": [],
   "source": [
    "symptoms_df.columns"
   ]
  },
  {
   "cell_type": "code",
   "execution_count": null,
   "metadata": {},
   "outputs": [],
   "source": [
    "symptoms_df=symptoms_df[['VAERS_ID', 'SYMPTOM1', 'SYMPTOM2', 'SYMPTOM3', 'SYMPTOM4', 'SYMPTOM5']]\n",
    "symptoms_df"
   ]
  },
  {
   "cell_type": "code",
   "execution_count": null,
   "metadata": {},
   "outputs": [],
   "source": [
    "symptom1_df = symptoms_df[['VAERS_ID', 'SYMPTOM1']]\n",
    "symptom1_df = symptom1_df.rename(columns = {'SYMPTOM1': 'SYMPTOM'})\n",
    "symptom2_df = symptoms_df[['VAERS_ID', 'SYMPTOM2']]\n",
    "symptom2_df = symptom1_df.rename(columns = {'SYMPTOM2': 'SYMPTOM'})\n",
    "symptom3_df = symptoms_df[['VAERS_ID', 'SYMPTOM3']]\n",
    "symptom3_df = symptom1_df.rename(columns = {'SYMPTOM3': 'SYMPTOM'})\n",
    "symptom4_df = symptoms_df[['VAERS_ID', 'SYMPTOM4']]\n",
    "symptom4_df = symptom1_df.rename(columns = {'SYMPTOM4': 'SYMPTOM'})\n",
    "symptom5_df = symptoms_df[['VAERS_ID', 'SYMPTOM5']]\n",
    "symptom5_df = symptom1_df.rename(columns = {'SYMPTOM5': 'SYMPTOM'})"
   ]
  },
  {
   "cell_type": "code",
   "execution_count": null,
   "metadata": {},
   "outputs": [],
   "source": [
    "all_symptoms = symptom1_df.append(symptom2_df).reset_index(drop=True)\n",
    "all_symptoms = all_symptoms.append(symptom3_df).reset_index(drop = True)\n",
    "all_symptoms = all_symptoms.append(symptom4_df).reset_index(drop = True)\n",
    "all_symptoms = all_symptoms.append(symptom5_df).reset_index(drop = True)\n",
    "all_symptoms.head(50)"
   ]
  },
  {
   "cell_type": "code",
   "execution_count": null,
   "metadata": {},
   "outputs": [],
   "source": [
    "all_symptoms.count()"
   ]
  },
  {
   "cell_type": "code",
   "execution_count": null,
   "metadata": {},
   "outputs": [],
   "source": [
    "all_symptoms['SYMPTOM'].nunique()"
   ]
  },
  {
   "cell_type": "code",
   "execution_count": null,
   "metadata": {},
   "outputs": [],
   "source": [
    "all_symptoms.groupby(all_symptoms['SYMPTOM']).count().sort_values('VAERS_ID', ascending=False).head(50)"
   ]
  },
  {
   "cell_type": "markdown",
   "metadata": {},
   "source": [
    "# Preprocessing the Vaccine file"
   ]
  },
  {
   "cell_type": "code",
   "execution_count": null,
   "metadata": {},
   "outputs": [],
   "source": [
    "# Name of the CSV file\n",
    "vaccinefile = '../Resources/2021VAERSVAX.csv'"
   ]
  },
  {
   "cell_type": "code",
   "execution_count": null,
   "metadata": {},
   "outputs": [],
   "source": [
    "# The correct encoding must be used to read the CSV in pandas\n",
    "vaccine = pd.read_csv(vaccinefile, encoding=\"ISO-8859-1\", low_memory=False)"
   ]
  },
  {
   "cell_type": "code",
   "execution_count": null,
   "metadata": {},
   "outputs": [],
   "source": [
    "vaccine.columns"
   ]
  },
  {
   "cell_type": "code",
   "execution_count": null,
   "metadata": {},
   "outputs": [],
   "source": [
    "vaccine_df = vaccine[['VAERS_ID', 'VAX_NAME', 'VAX_DOSE_SERIES', 'VAX_SITE']]\n",
    "vaccine_df.head()"
   ]
  },
  {
   "cell_type": "code",
   "execution_count": null,
   "metadata": {},
   "outputs": [],
   "source": [
    "vaccine_df['VAX_NAME'].unique()"
   ]
  },
  {
   "cell_type": "code",
   "execution_count": null,
   "metadata": {},
   "outputs": [],
   "source": [
    "covid_vaccines = ['COVID19 (COVID19 (MODERNA))', 'COVID19 (COVID19 (PFIZER-BIONTECH))', 'COVID19 (COVID19 (JANSSEN))'] \n",
    "    \n",
    "# selecting rows based on conditions\n",
    "covid_vaccine_df= vaccine_df[vaccine_df['VAX_NAME'].isin(covid_vaccines)] "
   ]
  },
  {
   "cell_type": "code",
   "execution_count": null,
   "metadata": {},
   "outputs": [],
   "source": [
    "covid_vaccine_df['VAX_NAME'].unique()"
   ]
  },
  {
   "cell_type": "code",
   "execution_count": null,
   "metadata": {},
   "outputs": [],
   "source": [
    "covid_vaccine_df.head(20)"
   ]
  },
  {
   "cell_type": "code",
   "execution_count": null,
   "metadata": {},
   "outputs": [],
   "source": [
    "covid_vaccine_df['VAX_SITE'].isnull().sum()"
   ]
  },
  {
   "cell_type": "code",
   "execution_count": null,
   "metadata": {},
   "outputs": [],
   "source": [
    "covid_vaccine_df.dropna(subset = ['VAX_SITE'], inplace=True)"
   ]
  },
  {
   "cell_type": "code",
   "execution_count": null,
   "metadata": {},
   "outputs": [],
   "source": [
    "covid_vaccine_df['VAX_DOSE_SERIES'].isnull().sum()"
   ]
  },
  {
   "cell_type": "code",
   "execution_count": null,
   "metadata": {},
   "outputs": [],
   "source": [
    "covid_vaccine_df['VAX_DOSE_SERIES'].unique()"
   ]
  },
  {
   "cell_type": "code",
   "execution_count": null,
   "metadata": {},
   "outputs": [],
   "source": [
    "covid_vaccine_df.groupby('VAX_DOSE_SERIES').count()"
   ]
  },
  {
   "cell_type": "code",
   "execution_count": null,
   "metadata": {},
   "outputs": [],
   "source": [
    "# selecting rows based on conditions\n",
    "covid_vaccine_df=covid_vaccine_df[covid_vaccine_df['VAX_DOSE_SERIES'].isin(['1','2'])] \n",
    "covid_vaccine_df.head()"
   ]
  },
  {
   "cell_type": "code",
   "execution_count": null,
   "metadata": {},
   "outputs": [],
   "source": [
    "covid_vaccine_df.groupby('VAX_SITE').count()"
   ]
  },
  {
   "cell_type": "code",
   "execution_count": null,
   "metadata": {},
   "outputs": [],
   "source": [
    "# selecting rows based on conditions\n",
    "final_covid_vaccine_df=covid_vaccine_df[covid_vaccine_df['VAX_SITE'].isin(['LA','RA'])] \n",
    "final_covid_vaccine_df.head()"
   ]
  },
  {
   "cell_type": "code",
   "execution_count": null,
   "metadata": {},
   "outputs": [],
   "source": [
    "final = pd.get_dummies(final_covid_vaccine_df)\n",
    "final"
   ]
  },
  {
   "cell_type": "code",
   "execution_count": null,
   "metadata": {},
   "outputs": [],
   "source": [
    "final.rename(columns = {'VAX_NAME_COVID19 (COVID19 (JANSSEN))':'JANSSEN', 'VAX_NAME_COVID19 (COVID19 (MODERNA))':'MODERNA', 'VAX_NAME_COVID19 (COVID19 (PFIZER-BIONTECH))': 'PFIZER'}, inplace = True)"
   ]
  },
  {
   "cell_type": "code",
   "execution_count": null,
   "metadata": {},
   "outputs": [],
   "source": [
    "final"
   ]
  },
  {
   "cell_type": "markdown",
   "metadata": {},
   "source": [
    "# Merging the files together"
   ]
  },
  {
   "cell_type": "code",
   "execution_count": null,
   "metadata": {},
   "outputs": [],
   "source": [
    "merged_df = all_symptoms.merge(patient_features, how = 'left')\n",
    "merged_df"
   ]
  },
  {
   "cell_type": "code",
   "execution_count": null,
   "metadata": {},
   "outputs": [],
   "source": [
    "merged_df2 = merged_df.merge(final, how = 'left')"
   ]
  },
  {
   "cell_type": "code",
   "execution_count": null,
   "metadata": {},
   "outputs": [],
   "source": [
    "merged_df2.dropna(axis=0, how = 'any', inplace = True)\n",
    "merged_df2"
   ]
  },
  {
   "cell_type": "code",
   "execution_count": null,
   "metadata": {},
   "outputs": [],
   "source": [
    "merged_df2 = pd.to_csv('../Resources/training_dataset.csv', index=False)"
   ]
  },
  {
   "cell_type": "code",
   "execution_count": null,
   "metadata": {},
   "outputs": [],
   "source": []
  }
 ],
 "metadata": {
  "kernelspec": {
   "display_name": "PythonData",
   "language": "python",
   "name": "pythondata"
  },
  "language_info": {
   "codemirror_mode": {
    "name": "ipython",
    "version": 3
   },
   "file_extension": ".py",
   "mimetype": "text/x-python",
   "name": "python",
   "nbconvert_exporter": "python",
   "pygments_lexer": "ipython3",
   "version": "3.8.8"
  }
 },
 "nbformat": 4,
 "nbformat_minor": 5
}
