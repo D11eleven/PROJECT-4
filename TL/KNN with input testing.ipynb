{
 "cells": [
  {
   "cell_type": "markdown",
   "id": "0e3fc6aa",
   "metadata": {},
   "source": [
    "## Import Dependancies"
   ]
  },
  {
   "cell_type": "code",
   "execution_count": 50,
   "id": "db914895",
   "metadata": {},
   "outputs": [],
   "source": [
    "# Dependencies and Setup\n",
    "import pandas as pd\n",
    "import numpy as np\n",
    "import matplotlib.pyplot as plt\n",
    "from sklearn.neighbors import KNeighborsClassifier, KDTree\n",
    "import os\n",
    "import pickle\n",
    "from sklearn.model_selection import train_test_split\n",
    "from sklearn.preprocessing import LabelEncoder, StandardScaler\n",
    "from wordcloud import WordCloud, STOPWORDS\n",
    "#from sklearn.metrics import confusion_matrix, classification_report\n"
   ]
  },
  {
   "cell_type": "code",
   "execution_count": 51,
   "id": "e6e68cda",
   "metadata": {
    "scrolled": true
   },
   "outputs": [
    {
     "data": {
      "text/html": [
       "<div>\n",
       "<style scoped>\n",
       "    .dataframe tbody tr th:only-of-type {\n",
       "        vertical-align: middle;\n",
       "    }\n",
       "\n",
       "    .dataframe tbody tr th {\n",
       "        vertical-align: top;\n",
       "    }\n",
       "\n",
       "    .dataframe thead th {\n",
       "        text-align: right;\n",
       "    }\n",
       "</style>\n",
       "<table border=\"1\" class=\"dataframe\">\n",
       "  <thead>\n",
       "    <tr style=\"text-align: right;\">\n",
       "      <th></th>\n",
       "      <th>VAERS_ID</th>\n",
       "      <th>SYMPTOM</th>\n",
       "      <th>ASSIGNED_GROUP</th>\n",
       "      <th>SEVERITY_LEVEL</th>\n",
       "      <th>DIED</th>\n",
       "      <th>L_THREAT</th>\n",
       "      <th>HOSPITAL</th>\n",
       "      <th>AGE_YRS</th>\n",
       "      <th>AGE_GROUP</th>\n",
       "      <th>OTHER_MEDS</th>\n",
       "      <th>...</th>\n",
       "      <th>VAX_SITE_RA</th>\n",
       "      <th>18-25</th>\n",
       "      <th>26-35</th>\n",
       "      <th>36-45</th>\n",
       "      <th>46-55</th>\n",
       "      <th>56-65</th>\n",
       "      <th>66-75</th>\n",
       "      <th>76-85</th>\n",
       "      <th>86-95</th>\n",
       "      <th>96 +</th>\n",
       "    </tr>\n",
       "  </thead>\n",
       "  <tbody>\n",
       "    <tr>\n",
       "      <th>0</th>\n",
       "      <td>916600</td>\n",
       "      <td>Dysphagia</td>\n",
       "      <td>Difficulty swallowing</td>\n",
       "      <td>MILD</td>\n",
       "      <td>0.0</td>\n",
       "      <td>0.0</td>\n",
       "      <td>0.0</td>\n",
       "      <td>33.0</td>\n",
       "      <td>26-35</td>\n",
       "      <td>0.0</td>\n",
       "      <td>...</td>\n",
       "      <td>0.0</td>\n",
       "      <td>0</td>\n",
       "      <td>1</td>\n",
       "      <td>0</td>\n",
       "      <td>0</td>\n",
       "      <td>0</td>\n",
       "      <td>0</td>\n",
       "      <td>0</td>\n",
       "      <td>0</td>\n",
       "      <td>0</td>\n",
       "    </tr>\n",
       "    <tr>\n",
       "      <th>1</th>\n",
       "      <td>917168</td>\n",
       "      <td>Dysphagia</td>\n",
       "      <td>Difficulty swallowing</td>\n",
       "      <td>MILD</td>\n",
       "      <td>0.0</td>\n",
       "      <td>0.0</td>\n",
       "      <td>0.0</td>\n",
       "      <td>64.0</td>\n",
       "      <td>56-65</td>\n",
       "      <td>1.0</td>\n",
       "      <td>...</td>\n",
       "      <td>1.0</td>\n",
       "      <td>0</td>\n",
       "      <td>0</td>\n",
       "      <td>0</td>\n",
       "      <td>0</td>\n",
       "      <td>1</td>\n",
       "      <td>0</td>\n",
       "      <td>0</td>\n",
       "      <td>0</td>\n",
       "      <td>0</td>\n",
       "    </tr>\n",
       "    <tr>\n",
       "      <th>2</th>\n",
       "      <td>918386</td>\n",
       "      <td>Dysphagia</td>\n",
       "      <td>Difficulty swallowing</td>\n",
       "      <td>MILD</td>\n",
       "      <td>0.0</td>\n",
       "      <td>0.0</td>\n",
       "      <td>0.0</td>\n",
       "      <td>62.0</td>\n",
       "      <td>56-65</td>\n",
       "      <td>1.0</td>\n",
       "      <td>...</td>\n",
       "      <td>1.0</td>\n",
       "      <td>0</td>\n",
       "      <td>0</td>\n",
       "      <td>0</td>\n",
       "      <td>0</td>\n",
       "      <td>1</td>\n",
       "      <td>0</td>\n",
       "      <td>0</td>\n",
       "      <td>0</td>\n",
       "      <td>0</td>\n",
       "    </tr>\n",
       "    <tr>\n",
       "      <th>3</th>\n",
       "      <td>918393</td>\n",
       "      <td>Dysphagia</td>\n",
       "      <td>Difficulty swallowing</td>\n",
       "      <td>MILD</td>\n",
       "      <td>0.0</td>\n",
       "      <td>0.0</td>\n",
       "      <td>0.0</td>\n",
       "      <td>62.0</td>\n",
       "      <td>56-65</td>\n",
       "      <td>1.0</td>\n",
       "      <td>...</td>\n",
       "      <td>1.0</td>\n",
       "      <td>0</td>\n",
       "      <td>0</td>\n",
       "      <td>0</td>\n",
       "      <td>0</td>\n",
       "      <td>1</td>\n",
       "      <td>0</td>\n",
       "      <td>0</td>\n",
       "      <td>0</td>\n",
       "      <td>0</td>\n",
       "    </tr>\n",
       "    <tr>\n",
       "      <th>4</th>\n",
       "      <td>918479</td>\n",
       "      <td>Dysphagia</td>\n",
       "      <td>Difficulty swallowing</td>\n",
       "      <td>MILD</td>\n",
       "      <td>0.0</td>\n",
       "      <td>0.0</td>\n",
       "      <td>0.0</td>\n",
       "      <td>37.0</td>\n",
       "      <td>36-45</td>\n",
       "      <td>1.0</td>\n",
       "      <td>...</td>\n",
       "      <td>1.0</td>\n",
       "      <td>0</td>\n",
       "      <td>0</td>\n",
       "      <td>1</td>\n",
       "      <td>0</td>\n",
       "      <td>0</td>\n",
       "      <td>0</td>\n",
       "      <td>0</td>\n",
       "      <td>0</td>\n",
       "      <td>0</td>\n",
       "    </tr>\n",
       "  </tbody>\n",
       "</table>\n",
       "<p>5 rows × 32 columns</p>\n",
       "</div>"
      ],
      "text/plain": [
       "   VAERS_ID    SYMPTOM         ASSIGNED_GROUP SEVERITY_LEVEL  DIED  L_THREAT  \\\n",
       "0    916600  Dysphagia  Difficulty swallowing           MILD   0.0       0.0   \n",
       "1    917168  Dysphagia  Difficulty swallowing           MILD   0.0       0.0   \n",
       "2    918386  Dysphagia  Difficulty swallowing           MILD   0.0       0.0   \n",
       "3    918393  Dysphagia  Difficulty swallowing           MILD   0.0       0.0   \n",
       "4    918479  Dysphagia  Difficulty swallowing           MILD   0.0       0.0   \n",
       "\n",
       "   HOSPITAL  AGE_YRS AGE_GROUP  OTHER_MEDS  ...  VAX_SITE_RA  18-25  26-35  \\\n",
       "0       0.0     33.0     26-35         0.0  ...          0.0      0      1   \n",
       "1       0.0     64.0     56-65         1.0  ...          1.0      0      0   \n",
       "2       0.0     62.0     56-65         1.0  ...          1.0      0      0   \n",
       "3       0.0     62.0     56-65         1.0  ...          1.0      0      0   \n",
       "4       0.0     37.0     36-45         1.0  ...          1.0      0      0   \n",
       "\n",
       "   36-45  46-55  56-65  66-75  76-85  86-95  96 +  \n",
       "0      0      0      0      0      0      0     0  \n",
       "1      0      0      1      0      0      0     0  \n",
       "2      0      0      1      0      0      0     0  \n",
       "3      0      0      1      0      0      0     0  \n",
       "4      1      0      0      0      0      0     0  \n",
       "\n",
       "[5 rows x 32 columns]"
      ]
     },
     "execution_count": 51,
     "metadata": {},
     "output_type": "execute_result"
    }
   ],
   "source": [
    "# File to Load (Remember to Change These)\n",
    "data = \"../Resources/FINAL_CLEAN_FILE.csv\"\n",
    "\n",
    "# read to dataframe\n",
    "data_df = pd.read_csv(data)\n",
    "data_df.head()\n"
   ]
  },
  {
   "cell_type": "code",
   "execution_count": 52,
   "id": "21b2b089",
   "metadata": {},
   "outputs": [
    {
     "data": {
      "text/plain": [
       "array(['MILD', 'MODERATE', 'SEVERE'], dtype=object)"
      ]
     },
     "execution_count": 52,
     "metadata": {},
     "output_type": "execute_result"
    }
   ],
   "source": [
    "severity = data_df['SEVERITY_LEVEL'].unique()\n",
    "severity\n"
   ]
  },
  {
   "cell_type": "markdown",
   "id": "f4222f28",
   "metadata": {},
   "source": [
    "## Prep Data For Model"
   ]
  },
  {
   "cell_type": "code",
   "execution_count": 55,
   "id": "35d14e64",
   "metadata": {},
   "outputs": [
    {
     "data": {
      "text/html": [
       "<div>\n",
       "<style scoped>\n",
       "    .dataframe tbody tr th:only-of-type {\n",
       "        vertical-align: middle;\n",
       "    }\n",
       "\n",
       "    .dataframe tbody tr th {\n",
       "        vertical-align: top;\n",
       "    }\n",
       "\n",
       "    .dataframe thead th {\n",
       "        text-align: right;\n",
       "    }\n",
       "</style>\n",
       "<table border=\"1\" class=\"dataframe\">\n",
       "  <thead>\n",
       "    <tr style=\"text-align: right;\">\n",
       "      <th></th>\n",
       "      <th>OTHER_MEDS</th>\n",
       "      <th>HISTORY</th>\n",
       "      <th>PRIOR_VAX</th>\n",
       "      <th>ALLERGIES</th>\n",
       "      <th>F</th>\n",
       "      <th>M</th>\n",
       "      <th>JANSSEN</th>\n",
       "      <th>MODERNA</th>\n",
       "      <th>PFIZER</th>\n",
       "      <th>VAX_DOSE_SERIES_1</th>\n",
       "      <th>VAX_DOSE_SERIES_2</th>\n",
       "      <th>18-25</th>\n",
       "      <th>26-35</th>\n",
       "      <th>36-45</th>\n",
       "      <th>46-55</th>\n",
       "      <th>56-65</th>\n",
       "      <th>66-75</th>\n",
       "      <th>76-85</th>\n",
       "      <th>86-95</th>\n",
       "      <th>96 +</th>\n",
       "    </tr>\n",
       "  </thead>\n",
       "  <tbody>\n",
       "    <tr>\n",
       "      <th>0</th>\n",
       "      <td>0.0</td>\n",
       "      <td>0.0</td>\n",
       "      <td>0.0</td>\n",
       "      <td>1.0</td>\n",
       "      <td>1.0</td>\n",
       "      <td>0.0</td>\n",
       "      <td>0.0</td>\n",
       "      <td>1.0</td>\n",
       "      <td>0.0</td>\n",
       "      <td>1.0</td>\n",
       "      <td>0.0</td>\n",
       "      <td>0</td>\n",
       "      <td>1</td>\n",
       "      <td>0</td>\n",
       "      <td>0</td>\n",
       "      <td>0</td>\n",
       "      <td>0</td>\n",
       "      <td>0</td>\n",
       "      <td>0</td>\n",
       "      <td>0</td>\n",
       "    </tr>\n",
       "    <tr>\n",
       "      <th>1</th>\n",
       "      <td>1.0</td>\n",
       "      <td>1.0</td>\n",
       "      <td>0.0</td>\n",
       "      <td>1.0</td>\n",
       "      <td>1.0</td>\n",
       "      <td>0.0</td>\n",
       "      <td>0.0</td>\n",
       "      <td>1.0</td>\n",
       "      <td>0.0</td>\n",
       "      <td>1.0</td>\n",
       "      <td>0.0</td>\n",
       "      <td>0</td>\n",
       "      <td>0</td>\n",
       "      <td>0</td>\n",
       "      <td>0</td>\n",
       "      <td>1</td>\n",
       "      <td>0</td>\n",
       "      <td>0</td>\n",
       "      <td>0</td>\n",
       "      <td>0</td>\n",
       "    </tr>\n",
       "    <tr>\n",
       "      <th>2</th>\n",
       "      <td>1.0</td>\n",
       "      <td>0.0</td>\n",
       "      <td>0.0</td>\n",
       "      <td>1.0</td>\n",
       "      <td>1.0</td>\n",
       "      <td>0.0</td>\n",
       "      <td>0.0</td>\n",
       "      <td>1.0</td>\n",
       "      <td>0.0</td>\n",
       "      <td>1.0</td>\n",
       "      <td>0.0</td>\n",
       "      <td>0</td>\n",
       "      <td>0</td>\n",
       "      <td>0</td>\n",
       "      <td>0</td>\n",
       "      <td>1</td>\n",
       "      <td>0</td>\n",
       "      <td>0</td>\n",
       "      <td>0</td>\n",
       "      <td>0</td>\n",
       "    </tr>\n",
       "    <tr>\n",
       "      <th>3</th>\n",
       "      <td>1.0</td>\n",
       "      <td>0.0</td>\n",
       "      <td>0.0</td>\n",
       "      <td>1.0</td>\n",
       "      <td>1.0</td>\n",
       "      <td>0.0</td>\n",
       "      <td>0.0</td>\n",
       "      <td>1.0</td>\n",
       "      <td>0.0</td>\n",
       "      <td>1.0</td>\n",
       "      <td>0.0</td>\n",
       "      <td>0</td>\n",
       "      <td>0</td>\n",
       "      <td>0</td>\n",
       "      <td>0</td>\n",
       "      <td>1</td>\n",
       "      <td>0</td>\n",
       "      <td>0</td>\n",
       "      <td>0</td>\n",
       "      <td>0</td>\n",
       "    </tr>\n",
       "    <tr>\n",
       "      <th>4</th>\n",
       "      <td>1.0</td>\n",
       "      <td>1.0</td>\n",
       "      <td>0.0</td>\n",
       "      <td>1.0</td>\n",
       "      <td>1.0</td>\n",
       "      <td>0.0</td>\n",
       "      <td>0.0</td>\n",
       "      <td>1.0</td>\n",
       "      <td>0.0</td>\n",
       "      <td>1.0</td>\n",
       "      <td>0.0</td>\n",
       "      <td>0</td>\n",
       "      <td>0</td>\n",
       "      <td>1</td>\n",
       "      <td>0</td>\n",
       "      <td>0</td>\n",
       "      <td>0</td>\n",
       "      <td>0</td>\n",
       "      <td>0</td>\n",
       "      <td>0</td>\n",
       "    </tr>\n",
       "    <tr>\n",
       "      <th>...</th>\n",
       "      <td>...</td>\n",
       "      <td>...</td>\n",
       "      <td>...</td>\n",
       "      <td>...</td>\n",
       "      <td>...</td>\n",
       "      <td>...</td>\n",
       "      <td>...</td>\n",
       "      <td>...</td>\n",
       "      <td>...</td>\n",
       "      <td>...</td>\n",
       "      <td>...</td>\n",
       "      <td>...</td>\n",
       "      <td>...</td>\n",
       "      <td>...</td>\n",
       "      <td>...</td>\n",
       "      <td>...</td>\n",
       "      <td>...</td>\n",
       "      <td>...</td>\n",
       "      <td>...</td>\n",
       "      <td>...</td>\n",
       "    </tr>\n",
       "    <tr>\n",
       "      <th>26477</th>\n",
       "      <td>1.0</td>\n",
       "      <td>1.0</td>\n",
       "      <td>1.0</td>\n",
       "      <td>1.0</td>\n",
       "      <td>0.0</td>\n",
       "      <td>1.0</td>\n",
       "      <td>0.0</td>\n",
       "      <td>1.0</td>\n",
       "      <td>0.0</td>\n",
       "      <td>0.0</td>\n",
       "      <td>1.0</td>\n",
       "      <td>0</td>\n",
       "      <td>0</td>\n",
       "      <td>0</td>\n",
       "      <td>0</td>\n",
       "      <td>0</td>\n",
       "      <td>1</td>\n",
       "      <td>0</td>\n",
       "      <td>0</td>\n",
       "      <td>0</td>\n",
       "    </tr>\n",
       "    <tr>\n",
       "      <th>26478</th>\n",
       "      <td>1.0</td>\n",
       "      <td>1.0</td>\n",
       "      <td>0.0</td>\n",
       "      <td>1.0</td>\n",
       "      <td>1.0</td>\n",
       "      <td>0.0</td>\n",
       "      <td>0.0</td>\n",
       "      <td>0.0</td>\n",
       "      <td>1.0</td>\n",
       "      <td>1.0</td>\n",
       "      <td>0.0</td>\n",
       "      <td>0</td>\n",
       "      <td>0</td>\n",
       "      <td>0</td>\n",
       "      <td>0</td>\n",
       "      <td>0</td>\n",
       "      <td>0</td>\n",
       "      <td>1</td>\n",
       "      <td>0</td>\n",
       "      <td>0</td>\n",
       "    </tr>\n",
       "    <tr>\n",
       "      <th>26479</th>\n",
       "      <td>1.0</td>\n",
       "      <td>1.0</td>\n",
       "      <td>0.0</td>\n",
       "      <td>1.0</td>\n",
       "      <td>0.0</td>\n",
       "      <td>1.0</td>\n",
       "      <td>0.0</td>\n",
       "      <td>0.0</td>\n",
       "      <td>1.0</td>\n",
       "      <td>1.0</td>\n",
       "      <td>0.0</td>\n",
       "      <td>0</td>\n",
       "      <td>0</td>\n",
       "      <td>0</td>\n",
       "      <td>0</td>\n",
       "      <td>0</td>\n",
       "      <td>0</td>\n",
       "      <td>1</td>\n",
       "      <td>0</td>\n",
       "      <td>0</td>\n",
       "    </tr>\n",
       "    <tr>\n",
       "      <th>26480</th>\n",
       "      <td>0.0</td>\n",
       "      <td>1.0</td>\n",
       "      <td>0.0</td>\n",
       "      <td>0.0</td>\n",
       "      <td>1.0</td>\n",
       "      <td>0.0</td>\n",
       "      <td>0.0</td>\n",
       "      <td>0.0</td>\n",
       "      <td>1.0</td>\n",
       "      <td>1.0</td>\n",
       "      <td>0.0</td>\n",
       "      <td>0</td>\n",
       "      <td>0</td>\n",
       "      <td>0</td>\n",
       "      <td>0</td>\n",
       "      <td>0</td>\n",
       "      <td>0</td>\n",
       "      <td>1</td>\n",
       "      <td>0</td>\n",
       "      <td>0</td>\n",
       "    </tr>\n",
       "    <tr>\n",
       "      <th>26481</th>\n",
       "      <td>1.0</td>\n",
       "      <td>1.0</td>\n",
       "      <td>0.0</td>\n",
       "      <td>0.0</td>\n",
       "      <td>0.0</td>\n",
       "      <td>1.0</td>\n",
       "      <td>0.0</td>\n",
       "      <td>1.0</td>\n",
       "      <td>0.0</td>\n",
       "      <td>1.0</td>\n",
       "      <td>0.0</td>\n",
       "      <td>0</td>\n",
       "      <td>1</td>\n",
       "      <td>0</td>\n",
       "      <td>0</td>\n",
       "      <td>0</td>\n",
       "      <td>0</td>\n",
       "      <td>0</td>\n",
       "      <td>0</td>\n",
       "      <td>0</td>\n",
       "    </tr>\n",
       "  </tbody>\n",
       "</table>\n",
       "<p>26482 rows × 20 columns</p>\n",
       "</div>"
      ],
      "text/plain": [
       "       OTHER_MEDS  HISTORY  PRIOR_VAX  ALLERGIES    F    M  JANSSEN  MODERNA  \\\n",
       "0             0.0      0.0        0.0        1.0  1.0  0.0      0.0      1.0   \n",
       "1             1.0      1.0        0.0        1.0  1.0  0.0      0.0      1.0   \n",
       "2             1.0      0.0        0.0        1.0  1.0  0.0      0.0      1.0   \n",
       "3             1.0      0.0        0.0        1.0  1.0  0.0      0.0      1.0   \n",
       "4             1.0      1.0        0.0        1.0  1.0  0.0      0.0      1.0   \n",
       "...           ...      ...        ...        ...  ...  ...      ...      ...   \n",
       "26477         1.0      1.0        1.0        1.0  0.0  1.0      0.0      1.0   \n",
       "26478         1.0      1.0        0.0        1.0  1.0  0.0      0.0      0.0   \n",
       "26479         1.0      1.0        0.0        1.0  0.0  1.0      0.0      0.0   \n",
       "26480         0.0      1.0        0.0        0.0  1.0  0.0      0.0      0.0   \n",
       "26481         1.0      1.0        0.0        0.0  0.0  1.0      0.0      1.0   \n",
       "\n",
       "       PFIZER  VAX_DOSE_SERIES_1  VAX_DOSE_SERIES_2  18-25  26-35  36-45  \\\n",
       "0         0.0                1.0                0.0      0      1      0   \n",
       "1         0.0                1.0                0.0      0      0      0   \n",
       "2         0.0                1.0                0.0      0      0      0   \n",
       "3         0.0                1.0                0.0      0      0      0   \n",
       "4         0.0                1.0                0.0      0      0      1   \n",
       "...       ...                ...                ...    ...    ...    ...   \n",
       "26477     0.0                0.0                1.0      0      0      0   \n",
       "26478     1.0                1.0                0.0      0      0      0   \n",
       "26479     1.0                1.0                0.0      0      0      0   \n",
       "26480     1.0                1.0                0.0      0      0      0   \n",
       "26481     0.0                1.0                0.0      0      1      0   \n",
       "\n",
       "       46-55  56-65  66-75  76-85  86-95  96 +  \n",
       "0          0      0      0      0      0     0  \n",
       "1          0      1      0      0      0     0  \n",
       "2          0      1      0      0      0     0  \n",
       "3          0      1      0      0      0     0  \n",
       "4          0      0      0      0      0     0  \n",
       "...      ...    ...    ...    ...    ...   ...  \n",
       "26477      0      0      1      0      0     0  \n",
       "26478      0      0      0      1      0     0  \n",
       "26479      0      0      0      1      0     0  \n",
       "26480      0      0      0      1      0     0  \n",
       "26481      0      0      0      0      0     0  \n",
       "\n",
       "[26482 rows x 20 columns]"
      ]
     },
     "execution_count": 55,
     "metadata": {},
     "output_type": "execute_result"
    }
   ],
   "source": [
    "# create train data\n",
    "X = data_df.drop(['VAERS_ID', 'SYMPTOM','ASSIGNED_GROUP','SEVERITY_LEVEL','HOSPITAL', 'DIED', 'L_THREAT', 'CUR_ILL', 'VAX_SITE_LA', 'VAX_SITE_RA', 'AGE_YRS', 'AGE_GROUP'], axis=1)\n",
    "X\n"
   ]
  },
  {
   "cell_type": "code",
   "execution_count": 56,
   "id": "51d5cd18",
   "metadata": {},
   "outputs": [
    {
     "data": {
      "text/plain": [
       "array([0, 0, 0, ..., 2, 1, 1])"
      ]
     },
     "execution_count": 56,
     "metadata": {},
     "output_type": "execute_result"
    }
   ],
   "source": [
    "# convert the serverity labels to numbers and create the target data\n",
    "y = LabelEncoder().fit_transform(data_df['SEVERITY_LEVEL'])\n",
    "y\n"
   ]
  },
  {
   "cell_type": "code",
   "execution_count": 57,
   "id": "c69a1f80",
   "metadata": {},
   "outputs": [
    {
     "data": {
      "text/html": [
       "<div>\n",
       "<style scoped>\n",
       "    .dataframe tbody tr th:only-of-type {\n",
       "        vertical-align: middle;\n",
       "    }\n",
       "\n",
       "    .dataframe tbody tr th {\n",
       "        vertical-align: top;\n",
       "    }\n",
       "\n",
       "    .dataframe thead th {\n",
       "        text-align: right;\n",
       "    }\n",
       "</style>\n",
       "<table border=\"1\" class=\"dataframe\">\n",
       "  <thead>\n",
       "    <tr style=\"text-align: right;\">\n",
       "      <th></th>\n",
       "      <th>OTHER_MEDS</th>\n",
       "      <th>HISTORY</th>\n",
       "      <th>PRIOR_VAX</th>\n",
       "      <th>ALLERGIES</th>\n",
       "      <th>F</th>\n",
       "      <th>M</th>\n",
       "      <th>JANSSEN</th>\n",
       "      <th>MODERNA</th>\n",
       "      <th>PFIZER</th>\n",
       "      <th>VAX_DOSE_SERIES_1</th>\n",
       "      <th>VAX_DOSE_SERIES_2</th>\n",
       "      <th>18-25</th>\n",
       "      <th>26-35</th>\n",
       "      <th>36-45</th>\n",
       "      <th>46-55</th>\n",
       "      <th>56-65</th>\n",
       "      <th>66-75</th>\n",
       "      <th>76-85</th>\n",
       "      <th>86-95</th>\n",
       "      <th>96 +</th>\n",
       "    </tr>\n",
       "  </thead>\n",
       "  <tbody>\n",
       "    <tr>\n",
       "      <th>12</th>\n",
       "      <td>0.0</td>\n",
       "      <td>0.0</td>\n",
       "      <td>0.0</td>\n",
       "      <td>0.0</td>\n",
       "      <td>0.0</td>\n",
       "      <td>1.0</td>\n",
       "      <td>0.0</td>\n",
       "      <td>1.0</td>\n",
       "      <td>0.0</td>\n",
       "      <td>1.0</td>\n",
       "      <td>0.0</td>\n",
       "      <td>0</td>\n",
       "      <td>0</td>\n",
       "      <td>0</td>\n",
       "      <td>0</td>\n",
       "      <td>1</td>\n",
       "      <td>0</td>\n",
       "      <td>0</td>\n",
       "      <td>0</td>\n",
       "      <td>0</td>\n",
       "    </tr>\n",
       "    <tr>\n",
       "      <th>9280</th>\n",
       "      <td>1.0</td>\n",
       "      <td>1.0</td>\n",
       "      <td>1.0</td>\n",
       "      <td>1.0</td>\n",
       "      <td>1.0</td>\n",
       "      <td>0.0</td>\n",
       "      <td>0.0</td>\n",
       "      <td>1.0</td>\n",
       "      <td>0.0</td>\n",
       "      <td>1.0</td>\n",
       "      <td>0.0</td>\n",
       "      <td>1</td>\n",
       "      <td>0</td>\n",
       "      <td>0</td>\n",
       "      <td>0</td>\n",
       "      <td>0</td>\n",
       "      <td>0</td>\n",
       "      <td>0</td>\n",
       "      <td>0</td>\n",
       "      <td>0</td>\n",
       "    </tr>\n",
       "    <tr>\n",
       "      <th>1067</th>\n",
       "      <td>1.0</td>\n",
       "      <td>1.0</td>\n",
       "      <td>0.0</td>\n",
       "      <td>1.0</td>\n",
       "      <td>1.0</td>\n",
       "      <td>0.0</td>\n",
       "      <td>0.0</td>\n",
       "      <td>1.0</td>\n",
       "      <td>0.0</td>\n",
       "      <td>1.0</td>\n",
       "      <td>0.0</td>\n",
       "      <td>0</td>\n",
       "      <td>1</td>\n",
       "      <td>0</td>\n",
       "      <td>0</td>\n",
       "      <td>0</td>\n",
       "      <td>0</td>\n",
       "      <td>0</td>\n",
       "      <td>0</td>\n",
       "      <td>0</td>\n",
       "    </tr>\n",
       "    <tr>\n",
       "      <th>18597</th>\n",
       "      <td>0.0</td>\n",
       "      <td>0.0</td>\n",
       "      <td>0.0</td>\n",
       "      <td>0.0</td>\n",
       "      <td>1.0</td>\n",
       "      <td>0.0</td>\n",
       "      <td>0.0</td>\n",
       "      <td>1.0</td>\n",
       "      <td>0.0</td>\n",
       "      <td>1.0</td>\n",
       "      <td>0.0</td>\n",
       "      <td>0</td>\n",
       "      <td>0</td>\n",
       "      <td>0</td>\n",
       "      <td>1</td>\n",
       "      <td>0</td>\n",
       "      <td>0</td>\n",
       "      <td>0</td>\n",
       "      <td>0</td>\n",
       "      <td>0</td>\n",
       "    </tr>\n",
       "    <tr>\n",
       "      <th>17354</th>\n",
       "      <td>0.0</td>\n",
       "      <td>0.0</td>\n",
       "      <td>0.0</td>\n",
       "      <td>0.0</td>\n",
       "      <td>1.0</td>\n",
       "      <td>0.0</td>\n",
       "      <td>0.0</td>\n",
       "      <td>1.0</td>\n",
       "      <td>0.0</td>\n",
       "      <td>0.0</td>\n",
       "      <td>1.0</td>\n",
       "      <td>0</td>\n",
       "      <td>1</td>\n",
       "      <td>0</td>\n",
       "      <td>0</td>\n",
       "      <td>0</td>\n",
       "      <td>0</td>\n",
       "      <td>0</td>\n",
       "      <td>0</td>\n",
       "      <td>0</td>\n",
       "    </tr>\n",
       "    <tr>\n",
       "      <th>...</th>\n",
       "      <td>...</td>\n",
       "      <td>...</td>\n",
       "      <td>...</td>\n",
       "      <td>...</td>\n",
       "      <td>...</td>\n",
       "      <td>...</td>\n",
       "      <td>...</td>\n",
       "      <td>...</td>\n",
       "      <td>...</td>\n",
       "      <td>...</td>\n",
       "      <td>...</td>\n",
       "      <td>...</td>\n",
       "      <td>...</td>\n",
       "      <td>...</td>\n",
       "      <td>...</td>\n",
       "      <td>...</td>\n",
       "      <td>...</td>\n",
       "      <td>...</td>\n",
       "      <td>...</td>\n",
       "      <td>...</td>\n",
       "    </tr>\n",
       "    <tr>\n",
       "      <th>20691</th>\n",
       "      <td>0.0</td>\n",
       "      <td>1.0</td>\n",
       "      <td>0.0</td>\n",
       "      <td>1.0</td>\n",
       "      <td>0.0</td>\n",
       "      <td>1.0</td>\n",
       "      <td>0.0</td>\n",
       "      <td>1.0</td>\n",
       "      <td>0.0</td>\n",
       "      <td>1.0</td>\n",
       "      <td>0.0</td>\n",
       "      <td>0</td>\n",
       "      <td>0</td>\n",
       "      <td>0</td>\n",
       "      <td>0</td>\n",
       "      <td>0</td>\n",
       "      <td>1</td>\n",
       "      <td>0</td>\n",
       "      <td>0</td>\n",
       "      <td>0</td>\n",
       "    </tr>\n",
       "    <tr>\n",
       "      <th>5699</th>\n",
       "      <td>0.0</td>\n",
       "      <td>0.0</td>\n",
       "      <td>0.0</td>\n",
       "      <td>0.0</td>\n",
       "      <td>1.0</td>\n",
       "      <td>0.0</td>\n",
       "      <td>0.0</td>\n",
       "      <td>1.0</td>\n",
       "      <td>0.0</td>\n",
       "      <td>0.0</td>\n",
       "      <td>1.0</td>\n",
       "      <td>0</td>\n",
       "      <td>0</td>\n",
       "      <td>0</td>\n",
       "      <td>0</td>\n",
       "      <td>1</td>\n",
       "      <td>0</td>\n",
       "      <td>0</td>\n",
       "      <td>0</td>\n",
       "      <td>0</td>\n",
       "    </tr>\n",
       "    <tr>\n",
       "      <th>10742</th>\n",
       "      <td>1.0</td>\n",
       "      <td>1.0</td>\n",
       "      <td>1.0</td>\n",
       "      <td>1.0</td>\n",
       "      <td>1.0</td>\n",
       "      <td>0.0</td>\n",
       "      <td>0.0</td>\n",
       "      <td>1.0</td>\n",
       "      <td>0.0</td>\n",
       "      <td>1.0</td>\n",
       "      <td>0.0</td>\n",
       "      <td>0</td>\n",
       "      <td>1</td>\n",
       "      <td>0</td>\n",
       "      <td>0</td>\n",
       "      <td>0</td>\n",
       "      <td>0</td>\n",
       "      <td>0</td>\n",
       "      <td>0</td>\n",
       "      <td>0</td>\n",
       "    </tr>\n",
       "    <tr>\n",
       "      <th>16921</th>\n",
       "      <td>0.0</td>\n",
       "      <td>0.0</td>\n",
       "      <td>0.0</td>\n",
       "      <td>1.0</td>\n",
       "      <td>1.0</td>\n",
       "      <td>0.0</td>\n",
       "      <td>0.0</td>\n",
       "      <td>1.0</td>\n",
       "      <td>0.0</td>\n",
       "      <td>1.0</td>\n",
       "      <td>0.0</td>\n",
       "      <td>0</td>\n",
       "      <td>0</td>\n",
       "      <td>0</td>\n",
       "      <td>1</td>\n",
       "      <td>0</td>\n",
       "      <td>0</td>\n",
       "      <td>0</td>\n",
       "      <td>0</td>\n",
       "      <td>0</td>\n",
       "    </tr>\n",
       "    <tr>\n",
       "      <th>25796</th>\n",
       "      <td>1.0</td>\n",
       "      <td>0.0</td>\n",
       "      <td>0.0</td>\n",
       "      <td>0.0</td>\n",
       "      <td>0.0</td>\n",
       "      <td>1.0</td>\n",
       "      <td>0.0</td>\n",
       "      <td>1.0</td>\n",
       "      <td>0.0</td>\n",
       "      <td>0.0</td>\n",
       "      <td>1.0</td>\n",
       "      <td>0</td>\n",
       "      <td>0</td>\n",
       "      <td>0</td>\n",
       "      <td>0</td>\n",
       "      <td>0</td>\n",
       "      <td>0</td>\n",
       "      <td>1</td>\n",
       "      <td>0</td>\n",
       "      <td>0</td>\n",
       "    </tr>\n",
       "  </tbody>\n",
       "</table>\n",
       "<p>19861 rows × 20 columns</p>\n",
       "</div>"
      ],
      "text/plain": [
       "       OTHER_MEDS  HISTORY  PRIOR_VAX  ALLERGIES    F    M  JANSSEN  MODERNA  \\\n",
       "12            0.0      0.0        0.0        0.0  0.0  1.0      0.0      1.0   \n",
       "9280          1.0      1.0        1.0        1.0  1.0  0.0      0.0      1.0   \n",
       "1067          1.0      1.0        0.0        1.0  1.0  0.0      0.0      1.0   \n",
       "18597         0.0      0.0        0.0        0.0  1.0  0.0      0.0      1.0   \n",
       "17354         0.0      0.0        0.0        0.0  1.0  0.0      0.0      1.0   \n",
       "...           ...      ...        ...        ...  ...  ...      ...      ...   \n",
       "20691         0.0      1.0        0.0        1.0  0.0  1.0      0.0      1.0   \n",
       "5699          0.0      0.0        0.0        0.0  1.0  0.0      0.0      1.0   \n",
       "10742         1.0      1.0        1.0        1.0  1.0  0.0      0.0      1.0   \n",
       "16921         0.0      0.0        0.0        1.0  1.0  0.0      0.0      1.0   \n",
       "25796         1.0      0.0        0.0        0.0  0.0  1.0      0.0      1.0   \n",
       "\n",
       "       PFIZER  VAX_DOSE_SERIES_1  VAX_DOSE_SERIES_2  18-25  26-35  36-45  \\\n",
       "12        0.0                1.0                0.0      0      0      0   \n",
       "9280      0.0                1.0                0.0      1      0      0   \n",
       "1067      0.0                1.0                0.0      0      1      0   \n",
       "18597     0.0                1.0                0.0      0      0      0   \n",
       "17354     0.0                0.0                1.0      0      1      0   \n",
       "...       ...                ...                ...    ...    ...    ...   \n",
       "20691     0.0                1.0                0.0      0      0      0   \n",
       "5699      0.0                0.0                1.0      0      0      0   \n",
       "10742     0.0                1.0                0.0      0      1      0   \n",
       "16921     0.0                1.0                0.0      0      0      0   \n",
       "25796     0.0                0.0                1.0      0      0      0   \n",
       "\n",
       "       46-55  56-65  66-75  76-85  86-95  96 +  \n",
       "12         0      1      0      0      0     0  \n",
       "9280       0      0      0      0      0     0  \n",
       "1067       0      0      0      0      0     0  \n",
       "18597      1      0      0      0      0     0  \n",
       "17354      0      0      0      0      0     0  \n",
       "...      ...    ...    ...    ...    ...   ...  \n",
       "20691      0      0      1      0      0     0  \n",
       "5699       0      1      0      0      0     0  \n",
       "10742      0      0      0      0      0     0  \n",
       "16921      1      0      0      0      0     0  \n",
       "25796      0      0      0      1      0     0  \n",
       "\n",
       "[19861 rows x 20 columns]"
      ]
     },
     "execution_count": 57,
     "metadata": {},
     "output_type": "execute_result"
    }
   ],
   "source": [
    "# split into train and test\n",
    "X_train, X_test, y_train, y_test = train_test_split(X, y, random_state=7)\n",
    "X_train"
   ]
  },
  {
   "cell_type": "code",
   "execution_count": 58,
   "id": "2fc34d5a",
   "metadata": {},
   "outputs": [],
   "source": [
    "# Scaling the train data with StandardScaler()\n",
    "# scaler = StandardScaler().fit(X_train)\n",
    "# X_train_scaled = scaler.transform(X_train)\n",
    "# X_test_scaled = scaler.transform(X_test)\n"
   ]
  },
  {
   "cell_type": "markdown",
   "id": "4b575569",
   "metadata": {},
   "source": [
    "## Testing KNN to Determine Best k value"
   ]
  },
  {
   "cell_type": "code",
   "execution_count": 8,
   "id": "73515cef",
   "metadata": {},
   "outputs": [
    {
     "name": "stdout",
     "output_type": "stream",
     "text": [
      "k: 1, Train/Test Score: 0.852/0.839\n",
      "k: 3, Train/Test Score: 0.894/0.886\n",
      "k: 5, Train/Test Score: 0.888/0.884\n",
      "k: 7, Train/Test Score: 0.897/0.895\n",
      "k: 9, Train/Test Score: 0.897/0.897\n",
      "k: 11, Train/Test Score: 0.897/0.897\n",
      "k: 13, Train/Test Score: 0.900/0.899\n",
      "k: 15, Train/Test Score: 0.900/0.899\n",
      "k: 17, Train/Test Score: 0.900/0.899\n",
      "k: 19, Train/Test Score: 0.900/0.899\n"
     ]
    },
    {
     "data": {
      "image/png": "[encoded data removed]",
      "text/plain": [
       "<Figure size 432x288 with 1 Axes>"
      ]
     },
     "metadata": {
      "needs_background": "light"
     },
     "output_type": "display_data"
    }
   ],
   "source": [
    "# Loop through different k values to find which has the highest accuracy.\n",
    "# Note: We use only odd numbers because we don't want any ties.\n",
    "train_scores = []\n",
    "test_scores = []\n",
    "for k in range(1, 20, 2):\n",
    "    knn = KNeighborsClassifier(n_neighbors=k)\n",
    "    knn.fit(X_train, y_train)\n",
    "    train_score = knn.score(X_train, y_train)\n",
    "    test_score = knn.score(X_test, y_test)\n",
    "    train_scores.append(train_score)\n",
    "    test_scores.append(test_score)\n",
    "    print(f\"k: {k}, Train/Test Score: {train_score:.3f}/{test_score:.3f}\")\n",
    "    \n",
    "    \n",
    "plt.plot(range(1, 20, 2), train_scores, marker='o')\n",
    "plt.plot(range(1, 20, 2), test_scores, marker=\"x\")\n",
    "plt.xlabel(\"k neighbors\")\n",
    "plt.ylabel(\"Testing accuracy score\")\n",
    "plt.show()\n"
   ]
  },
  {
   "cell_type": "markdown",
   "id": "23d5c2b8",
   "metadata": {},
   "source": [
    "Based on the scores above, we will move forward with 5 neighbors for our model. This was run on 3 random states (33, 42, 7) and all began to stabilize at k=5. "
   ]
  },
  {
   "cell_type": "markdown",
   "id": "c0d7e727",
   "metadata": {},
   "source": [
    "## Create KNN Model "
   ]
  },
  {
   "cell_type": "code",
   "execution_count": 86,
   "id": "fde8820a",
   "metadata": {},
   "outputs": [
    {
     "name": "stdout",
     "output_type": "stream",
     "text": [
      "k=5 Test Acc: 0.899\n"
     ]
    }
   ],
   "source": [
    "# Note that k: 5 provides the best accuracy where the classifier starts to stablize\n",
    "knn = KNeighborsClassifier(n_neighbors=13)\n",
    "knn.fit(X_train, y_train)\n",
    "print('k=5 Test Acc: %.3f' % knn.score(X_test, y_test))\n"
   ]
  },
  {
   "cell_type": "code",
   "execution_count": 77,
   "id": "a56e2905",
   "metadata": {},
   "outputs": [],
   "source": [
    "from pprint import pprint"
   ]
  },
  {
   "cell_type": "code",
   "execution_count": 78,
   "id": "0811854c",
   "metadata": {},
   "outputs": [
    {
     "data": {
      "text/plain": [
       "{'OTHER_MEDS': 0.0,\n",
       " 'HISTORY': 0.0,\n",
       " 'PRIOR_VAX': 0.0,\n",
       " 'ALLERGIES': 0.0,\n",
       " 'F': 0.0,\n",
       " 'M': 0.0,\n",
       " 'JANSSEN': 0.0,\n",
       " 'MODERNA': 0.0,\n",
       " 'PFIZER': 0.0,\n",
       " 'VAX_DOSE_SERIES_1': 0.0,\n",
       " 'VAX_DOSE_SERIES_2': 0.0,\n",
       " '18-25': 0.0,\n",
       " '26-35': 0.0,\n",
       " '36-45': 0.0,\n",
       " '46-55': 0.0,\n",
       " '56-65': 0.0,\n",
       " '66-75': 0.0,\n",
       " '76-85': 0.0,\n",
       " '86-95': 0.0,\n",
       " '96 +': 0.0}"
      ]
     },
     "execution_count": 78,
     "metadata": {},
     "output_type": "execute_result"
    }
   ],
   "source": [
    "# create empty slots\n",
    "base_parms = X_train.head(1).to_dict(orient='records')[0]\n",
    "for key,_ in base_parms.items():\n",
    "    base_parms[key] = 0.0\n",
    "base_parms    "
   ]
  },
  {
   "cell_type": "code",
   "execution_count": 79,
   "id": "cb3a1e5a",
   "metadata": {},
   "outputs": [
    {
     "data": {
      "text/plain": [
       "{'OTHER_MEDS': 0.0,\n",
       " 'HISTORY': 0.0,\n",
       " 'PRIOR_VAX': 0.0,\n",
       " 'ALLERGIES': 0.0,\n",
       " 'F': 0.0,\n",
       " 'M': 0.0,\n",
       " 'JANSSEN': 0.0,\n",
       " 'MODERNA': 0.0,\n",
       " 'PFIZER': 0.0,\n",
       " 'VAX_DOSE_SERIES_1': 0.0,\n",
       " 'VAX_DOSE_SERIES_2': 1.0,\n",
       " '18-25': 0.0,\n",
       " '26-35': 0.0,\n",
       " '36-45': 0.0,\n",
       " '46-55': 0.0,\n",
       " '56-65': 1.0,\n",
       " '66-75': 0.0,\n",
       " '76-85': 0.0,\n",
       " '86-95': 0.0,\n",
       " '96 +': 0.0}"
      ]
     },
     "execution_count": 79,
     "metadata": {},
     "output_type": "execute_result"
    }
   ],
   "source": [
    "Web_Entered_User_Age = '56-65'\n",
    "second_vax = True\n",
    "pred_parms = base_parms.copy()\n",
    "pred_parms[Web_Entered_User_Age] = 1.0\n",
    "if second_vax:\n",
    "    pred_parms['VAX_DOSE_SERIES_2'] = 1.0\n",
    "pred_parms"
   ]
  },
  {
   "cell_type": "code",
   "execution_count": 84,
   "id": "66d516cc",
   "metadata": {},
   "outputs": [
    {
     "data": {
      "text/plain": [
       "array([[0., 0., 0., 0., 0., 0., 0., 0., 0., 0., 1., 0., 0., 0., 0., 1.,\n",
       "        0., 0., 0., 0.]])"
      ]
     },
     "execution_count": 84,
     "metadata": {},
     "output_type": "execute_result"
    }
   ],
   "source": [
    "pred_parms_final = pd.DataFrame([pred_parms]).values"
   ]
  },
  {
   "cell_type": "code",
   "execution_count": 60,
   "id": "003ec5b6",
   "metadata": {},
   "outputs": [
    {
     "data": {
      "text/plain": [
       "Index(['OTHER_MEDS', 'HISTORY', 'PRIOR_VAX', 'ALLERGIES', 'F', 'M', 'JANSSEN',\n",
       "       'MODERNA', 'PFIZER', 'VAX_DOSE_SERIES_1', 'VAX_DOSE_SERIES_2', '18-25',\n",
       "       '26-35', '36-45', '46-55', '56-65', '66-75', '76-85', '86-95', '96 +'],\n",
       "      dtype='object')"
      ]
     },
     "execution_count": 60,
     "metadata": {},
     "output_type": "execute_result"
    }
   ],
   "source": [
    "X.columns\n"
   ]
  },
  {
   "cell_type": "code",
   "execution_count": 61,
   "id": "20051dcc",
   "metadata": {},
   "outputs": [
    {
     "name": "stdout",
     "output_type": "stream",
     "text": [
      "['MILD']\n"
     ]
    }
   ],
   "source": [
    "# Sample Prediction 1\n",
    "sample_user1 = [[1,1,1,1,0,1,0,0,1,0,1,0,0,0,0,0,0,0,0,1]]\n",
    "predicted_symptoms = knn.predict(sample_user1)\n",
    "# print(severity[predicted_symptoms])\n",
    "print(severity[predicted_symptoms])\n"
   ]
  },
  {
   "cell_type": "code",
   "execution_count": 63,
   "id": "c1fc219c",
   "metadata": {},
   "outputs": [
    {
     "name": "stdout",
     "output_type": "stream",
     "text": [
      "[24399, 9823, 21509, 5771, 7598, 15392, 5634, 19147, 4421, 4169, 10413, 26333, 20640, 5074, 25028, 20781, 8215, 8773, 20582, 13471, 11307, 26475, 26203, 26190, 25376, 25930, 26034, 24058, 23928, 3701, 23585, 23992, 19770, 19351, 12161, 19018, 6698, 14416, 5644, 17846, 10403, 14661, 26315, 26461, 12584, 16428, 26291, 22006, 25503, 3820, 9782, 518, 11224, 6380, 25467, 26092, 24203, 24313, 9437, 24564, 24788, 24825, 24974, 25089, 2736, 12406, 12315, 19533, 12227, 12274, 18725, 12068, 11736, 4974, 6856, 6870, 6895, 14279, 5154, 283, 19164, 7169, 7195, 18348, 3948, 26316, 4518, 26454, 12861, 4579, 26127, 26249, 10091, 26193, 14039, 26330, 11386, 25233, 25574, 25347, 25378, 9906, 25396, 25410, 4411, 4406, 25974, 25982, 26049, 9807, 26069, 26072, 17364, 18772, 24222, 16081, 24378, 23737, 23761, 9100, 23476, 23456, 24789, 24793, 14626, 24963, 23974, 25068, 25206, 2784, 7173, 12325, 15908, 7781, 11094, 25179, 10449, 4273, 10915, 3015, 10475, 12094, 12313, 4512, 4545, 4367, 10490, 12137, 2628, 6844, 4818, 581, 10422, 5696, 5128, 17496, 12511, 17736, 10412, 4951, 26276, 25970, 7140, 18024, 16062, 11683, 5022, 14656, 12496, 26366, 26380, 26396, 10257, 12436, 4165, 4597, 9106, 4529, 4989, 12575, 26206, 12612, 26222, 26133, 25126, 12409, 19019, 26194, 13568, 17990, 4380, 10202, 5681, 14189, 5042, 9810, 25518, 25261, 25338, 15124]\n"
     ]
    }
   ],
   "source": [
    "# 5 people closest to user 1\n",
    "tree = KDTree(X)\n",
    "dist, ind = tree.query(sample_user1, k=200)\n",
    "\n",
    "#convery ndarry to list \n",
    "like_users = ind[0].tolist()\n",
    "print(like_users)  # indices of 5 closest neighbors\n"
   ]
  },
  {
   "cell_type": "code",
   "execution_count": 64,
   "id": "40ce2011",
   "metadata": {},
   "outputs": [
    {
     "data": {
      "text/plain": [
       "['Pulmonary', 'Cough', 'Neck pain', 'Chills', 'Joint Pain/Discomfort']"
      ]
     },
     "execution_count": 64,
     "metadata": {},
     "output_type": "execute_result"
    }
   ],
   "source": [
    "# save nearest 50 neighbors symptoms as list for wordcloud\n",
    "predicted_symptoms = data_df['ASSIGNED_GROUP'].iloc[like_users].tolist()\n",
    "predicted_symptoms[:5]\n"
   ]
  },
  {
   "cell_type": "code",
   "execution_count": 65,
   "id": "f790ce2f",
   "metadata": {},
   "outputs": [
    {
     "data": {
      "image/png": "[encoded data removed]",
      "text/plain": [
       "<Figure size 1080x576 with 1 Axes>"
      ]
     },
     "metadata": {
      "needs_background": "light"
     },
     "output_type": "display_data"
    }
   ],
   "source": [
    "#convert list to string and generate\n",
    "unique_string=(\" \").join(predicted_symptoms)\n",
    "\n",
    "#create circle mask\n",
    "x, y = np.ogrid[:300, :300]\n",
    "mask = (x - 150) ** 2 + (y - 150) ** 2 > 130 ** 2\n",
    "mask = 255 * mask.astype(int)\n",
    "\n",
    "wordcloud = WordCloud(width = 1000, height = 500, mask=mask).generate(unique_string)\n",
    "plt.figure(figsize=(15,8))\n",
    "plt.imshow(wordcloud)\n",
    "plt.axis(\"off\")\n",
    "#plt.savefig(\"your_file_name\"+\".png\", bbox_inches='tight')\n",
    "plt.show()\n",
    "plt.close()\n"
   ]
  },
  {
   "cell_type": "code",
   "execution_count": 66,
   "id": "99cd033e",
   "metadata": {},
   "outputs": [
    {
     "name": "stdout",
     "output_type": "stream",
     "text": [
      "['MILD']\n"
     ]
    }
   ],
   "source": [
    "# Sample Prediction 2\n",
    "sample_user2 = np.array([1,1,1,1,1,1,1,1,1,1,1,1,1,1,1,1,1,1,1,1])\n",
    "new_array = sample_user2.reshape(1, 20)\n",
    "predicted_symptoms = knn.predict(new_array)\n",
    "print(severity[predicted_symptoms])\n"
   ]
  },
  {
   "cell_type": "code",
   "execution_count": 67,
   "id": "7796c25f",
   "metadata": {},
   "outputs": [
    {
     "name": "stdout",
     "output_type": "stream",
     "text": [
      "[24399, 9823, 21509, 5771, 7598, 15392, 5634, 19147, 4421, 4169, 10413, 26333, 20640, 5074, 25028, 20781, 8215, 8773, 20582, 13471, 11307, 26475, 26203, 26190, 25376, 25930, 26034, 24058, 23928, 3701, 23585, 23992, 19770, 19351, 12161, 19018, 6698, 14416, 5644, 17846, 10403, 14661, 26315, 26461, 12584, 16428, 26291, 22006, 25503, 3820, 9782, 518, 11224, 6380, 25467, 26092, 24203, 24313, 9437, 24564, 24788, 24825, 24974, 25089, 2736, 12406, 12315, 19533, 12227, 12274, 18725, 12068, 11736, 4974, 6856, 6870, 6895, 14279, 5154, 283, 19164, 7169, 7195, 18348, 3948, 26316, 4518, 26454, 12861, 4579, 26127, 26249, 10091, 26193, 14039, 26330, 11386, 25233, 25574, 25347, 25378, 9906, 25396, 25410, 4411, 4406, 25974, 25982, 26049, 9807, 26069, 26072, 17364, 18772, 24222, 16081, 24378, 23737, 23761, 9100, 23476, 23456, 24789, 24793, 14626, 24963, 23974, 25068, 25206, 2784, 7173, 12325, 15908, 7781, 11094, 25179, 10449, 4273, 10915, 3015, 10475, 12094, 12313, 4512, 4545, 4367, 10490, 12137, 2628, 6844, 4818, 581, 10422, 5696, 5128, 17496, 12511, 17736, 10412, 4951, 26276, 25970, 7140, 18024, 16062, 11683, 5022, 14656, 12496, 26366, 26380, 26396, 10257, 12436, 4165, 4597, 9106, 4529, 4989, 12575, 26206, 12612, 26222, 26133, 25126, 12409, 19019, 26194, 13568, 17990, 4380, 10202, 5681, 14189, 5042, 9810, 25518, 25261, 25338, 15124]\n"
     ]
    }
   ],
   "source": [
    "# 5 people closest to user 1\n",
    "tree = KDTree(X)\n",
    "dist, ind = tree.query(sample_user1, k=200)\n",
    "\n",
    "#convery ndarry to list \n",
    "like_users = ind[0].tolist()\n",
    "print(like_users)  # indices of 5 closest neighbors\n",
    "\n"
   ]
  },
  {
   "cell_type": "markdown",
   "id": "8a1dfa4f",
   "metadata": {},
   "source": [
    "# Save the Model"
   ]
  },
  {
   "cell_type": "code",
   "execution_count": 68,
   "id": "88b6fe58",
   "metadata": {},
   "outputs": [],
   "source": [
    "# save model\n",
    "with open(f'../knn_model2.sav', 'wb') as f:\n",
    "    pickle.dump(knn, f)\n",
    "    "
   ]
  },
  {
   "cell_type": "markdown",
   "id": "960a359e",
   "metadata": {},
   "source": [
    "# Practice Input"
   ]
  },
  {
   "cell_type": "code",
   "execution_count": 70,
   "id": "ef320a68",
   "metadata": {},
   "outputs": [],
   "source": [
    "features_np = ['OTHER_MEDS', 'HISTORY', 'PRIOR_VAX', 'ALLERGIES', 'F', 'M', 'JANSSEN', 'MODERNA', 'PFIZER',\n",
    "       'VAX_DOSE_SERIES_1', 'VAX_DOSE_SERIES_2', '18-25', '26-35', '36-45', '46-55', '56-65', '66-75', '76-85', '86-95',\n",
    "       '96 +']\n",
    "user_input = np.zeros(len(features_np))\n"
   ]
  },
  {
   "cell_type": "code",
   "execution_count": 71,
   "id": "35a60dfa",
   "metadata": {},
   "outputs": [
    {
     "name": "stdout",
     "output_type": "stream",
     "text": [
      "[0. 0. 0. 0. 1. 0. 0. 0. 1. 0. 1. 0. 0. 1. 0. 0. 0. 0. 0. 0.]\n"
     ]
    }
   ],
   "source": [
    "age_group = '36-45'\n",
    "sex = 'F'\n",
    "other_meds = 0\n",
    "history = 0\n",
    "prior_vax = 0\n",
    "allergies = 0\n",
    "vax_name = 'PFIZER'\n",
    "vax_dose = '2'\n",
    "\n",
    "age_idx = features_np.index(f'{age_group}')\n",
    "sex_idx = features_np.index(f'{sex}')\n",
    "vax_idx = features_np.index(f'{vax_name}')\n",
    "dose_idx = features_np.index(f'VAX_DOSE_SERIES_{vax_dose}')\n",
    "\n",
    "user_input[0] = other_meds\n",
    "user_input[1] = history\n",
    "user_input[2] = prior_vax\n",
    "user_input[3] = allergies\n",
    "user_input[sex_idx] = 1\n",
    "user_input[vax_idx] = 1\n",
    "user_input[dose_idx] = 1\n",
    "user_input[age_idx] = 1\n",
    "\n",
    "\n",
    "print(user_input)\n"
   ]
  },
  {
   "cell_type": "markdown",
   "id": "3054a7e9",
   "metadata": {},
   "source": [
    "# Predict"
   ]
  },
  {
   "cell_type": "code",
   "execution_count": 72,
   "id": "05186b4b",
   "metadata": {},
   "outputs": [
    {
     "name": "stdout",
     "output_type": "stream",
     "text": [
      "['MILD']\n"
     ]
    }
   ],
   "source": [
    "# Real Prediction\n",
    "user_test = user_input\n",
    "predicted_symptoms = knn.predict([user_test])\n",
    "print(severity[predicted_symptoms])"
   ]
  },
  {
   "cell_type": "code",
   "execution_count": 22,
   "id": "9693bed8",
   "metadata": {},
   "outputs": [],
   "source": [
    "user_input2 = np.zeros(len(features_np))"
   ]
  },
  {
   "cell_type": "code",
   "execution_count": 23,
   "id": "47ee84d9",
   "metadata": {},
   "outputs": [
    {
     "name": "stdout",
     "output_type": "stream",
     "text": [
      "[1. 1. 1. 1. 1. 0. 0. 0. 1. 0. 1. 0. 0. 0. 0. 1. 0. 0. 0. 0.]\n"
     ]
    }
   ],
   "source": [
    "age_group = '56-65'\n",
    "sex = 'F'\n",
    "other_meds = 1\n",
    "history = 1\n",
    "prior_vax = 1\n",
    "allergies = 1\n",
    "vax_name = 'PFIZER'\n",
    "vax_dose = '2'\n",
    "\n",
    "age_idx = features_np.index(f'{age_group}')\n",
    "sex_idx = features_np.index(f'{sex}')\n",
    "vax_idx = features_np.index(f'{vax_name}')\n",
    "dose_idx = features_np.index(f'VAX_DOSE_SERIES_{vax_dose}')\n",
    "\n",
    "user_input2[0] = other_meds\n",
    "user_input2[1] = history\n",
    "user_input2[2] = prior_vax\n",
    "user_input2[3] = allergies\n",
    "user_input2[sex_idx] = 1\n",
    "user_input2[vax_idx] = 1\n",
    "user_input2[dose_idx] = 1\n",
    "user_input2[age_idx] = 1\n",
    "\n",
    "\n",
    "print(user_input2)"
   ]
  },
  {
   "cell_type": "code",
   "execution_count": 24,
   "id": "64216276",
   "metadata": {},
   "outputs": [
    {
     "name": "stdout",
     "output_type": "stream",
     "text": [
      "['MILD']\n"
     ]
    }
   ],
   "source": [
    "# Real Prediction\n",
    "user_test2 = user_input2\n",
    "predicted_symptoms2 = knn.predict([user_test2])\n",
    "print(severity[predicted_symptoms2])"
   ]
  },
  {
   "cell_type": "code",
   "execution_count": 25,
   "id": "9e70afe7",
   "metadata": {},
   "outputs": [
    {
     "name": "stdout",
     "output_type": "stream",
     "text": [
      "[1. 1. 1. 1. 1. 0. 1. 0. 0. 0. 1. 0. 0. 0. 1. 0. 0. 0. 0. 0.]\n"
     ]
    }
   ],
   "source": [
    "user_input3 = np.zeros(len(features_np))\n",
    "\n",
    "age_group = '46-55'\n",
    "sex = 'F'\n",
    "other_meds = 1\n",
    "history = 1\n",
    "prior_vax = 1\n",
    "allergies = 1\n",
    "vax_name = 'JANSSEN'\n",
    "vax_dose = '2'\n",
    "\n",
    "age_idx = features_np.index(f'{age_group}')\n",
    "sex_idx = features_np.index(f'{sex}')\n",
    "vax_idx = features_np.index(f'{vax_name}')\n",
    "dose_idx = features_np.index(f'VAX_DOSE_SERIES_{vax_dose}')\n",
    "\n",
    "user_input3[0] = other_meds\n",
    "user_input3[1] = history\n",
    "user_input3[2] = prior_vax\n",
    "user_input3[3] = allergies\n",
    "user_input3[sex_idx] = 1\n",
    "user_input3[vax_idx] = 1\n",
    "user_input3[dose_idx] = 1\n",
    "user_input3[age_idx] = 1\n",
    "\n",
    "\n",
    "print(user_input3)"
   ]
  },
  {
   "cell_type": "code",
   "execution_count": 26,
   "id": "53d34055",
   "metadata": {},
   "outputs": [
    {
     "name": "stdout",
     "output_type": "stream",
     "text": [
      "['MILD']\n"
     ]
    }
   ],
   "source": [
    "# Real Prediction\n",
    "user_test3 = user_input3\n",
    "predicted_symptoms3 = knn.predict([user_test3])\n",
    "print(severity[predicted_symptoms3])"
   ]
  },
  {
   "cell_type": "code",
   "execution_count": 41,
   "id": "e4c06708",
   "metadata": {},
   "outputs": [
    {
     "name": "stdout",
     "output_type": "stream",
     "text": [
      "[11312, 6089, 8710, 8883, 9874, 24178, 8521, 25645, 24398, 7102, 5716, 3200, 6056, 21240, 24874, 11079, 9908, 20733, 21730, 6032, 21381, 1577, 21298, 3418, 3137, 17552, 7588, 14452, 19112, 5670, 7782, 19655, 7143, 12548, 4922, 17396, 4130, 14234, 11088, 19293, 7722, 19669, 18785, 18951, 7516, 17147, 14429, 14255, 7093, 2726, 5680, 7043, 17626, 17591, 13068, 6510, 4580, 17012, 14233, 7109, 12544, 13606, 2737, 50, 11346, 16776, 18346, 7127, 11257, 236, 21070, 11384, 7597, 7467, 19791, 18152, 4508, 4814, 19289, 7657, 7720, 4772, 2971, 19379, 2265, 7323, 7318, 2795, 18656, 386, 6517, 14244, 10168, 5536, 14216, 2615, 12933, 17645, 14292, 17747, 1762, 2728, 14489, 16885, 11619, 17059, 17588, 14315, 5052, 4532, 13041, 13066, 13552, 11905, 4854, 4881, 4586, 2759, 18101, 2734, 17729, 17439, 22589, 5630, 18105, 10647, 18116, 18126, 7253, 13328, 2034, 5521, 25418, 7271, 19510, 18714, 385, 13504, 5609, 7074, 10942, 10900, 10182, 4197, 13589, 17592, 5576, 4975, 11624, 1794, 4305, 12108, 6948, 7340, 22294, 4571, 7883, 26348, 19476, 11082, 12273, 7603, 1710, 11759, 4998, 7723, 7741, 19633, 13232, 13218, 7395, 4066, 4412, 18790, 569, 5798, 18546, 7564, 11021, 5318, 7539, 6516, 11040, 10166, 17411, 10201, 10678, 17186, 17420, 17263, 11207, 17405, 13193, 11690, 6785, 5547, 1761, 13151, 2551, 616]\n"
     ]
    }
   ],
   "source": [
    "# 5 people closest to user 1\n",
    "tree = KDTree(X)\n",
    "dist, ind = tree.query([user_input3], k=200)\n",
    "\n",
    "#convery ndarry to list \n",
    "like_users3 = ind[0].tolist()\n",
    "print(like_users3)  # indices of 5 closest neighbors\n"
   ]
  },
  {
   "cell_type": "code",
   "execution_count": 42,
   "id": "6d227c3a",
   "metadata": {},
   "outputs": [
    {
     "data": {
      "text/plain": [
       "['Back pain', 'Chills', 'Migraine/Headache', 'Migraine/Headache', 'Cough']"
      ]
     },
     "execution_count": 42,
     "metadata": {},
     "output_type": "execute_result"
    }
   ],
   "source": [
    "# save nearest 50 neighbors symptoms as list for wordcloud\n",
    "predicted_symptoms30 = data_df['ASSIGNED_GROUP'].iloc[like_users3].tolist()\n",
    "predicted_symptoms30[:5]"
   ]
  },
  {
   "cell_type": "code",
   "execution_count": 43,
   "id": "87f7775e",
   "metadata": {},
   "outputs": [
    {
     "data": {
      "image/png": "[encoded data removed]",
      "text/plain": [
       "<Figure size 1080x576 with 1 Axes>"
      ]
     },
     "metadata": {
      "needs_background": "light"
     },
     "output_type": "display_data"
    }
   ],
   "source": [
    "#convert list to string and generate\n",
    "unique_string=(\" \").join(predicted_symptoms30)\n",
    "\n",
    "#create circle mask\n",
    "x, y = np.ogrid[:300, :300]\n",
    "mask = (x - 150) ** 2 + (y - 150) ** 2 > 130 ** 2\n",
    "mask = 255 * mask.astype(int)\n",
    "\n",
    "wordcloud = WordCloud(width = 1000, height = 500, mask=mask).generate(unique_string)\n",
    "plt.figure(figsize=(15,8))\n",
    "plt.imshow(wordcloud)\n",
    "plt.axis(\"off\")\n",
    "#plt.savefig(\"your_file_name\"+\".png\", bbox_inches='tight')\n",
    "plt.show()\n",
    "plt.close()\n"
   ]
  },
  {
   "cell_type": "code",
   "execution_count": null,
   "id": "202ca576",
   "metadata": {},
   "outputs": [],
   "source": []
  }
 ],
 "metadata": {
  "kernelspec": {
   "display_name": "Python [conda env:PythonData] *",
   "language": "python",
   "name": "conda-env-PythonData-py"
  },
  "language_info": {
   "codemirror_mode": {
    "name": "ipython",
    "version": 3
   },
   "file_extension": ".py",
   "mimetype": "text/x-python",
   "name": "python",
   "nbconvert_exporter": "python",
   "pygments_lexer": "ipython3",
   "version": "3.6.10"
  }
 },
 "nbformat": 4,
 "nbformat_minor": 5
}
