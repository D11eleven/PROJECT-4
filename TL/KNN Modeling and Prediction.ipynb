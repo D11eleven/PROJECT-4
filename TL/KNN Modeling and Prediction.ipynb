{
 "cells": [
  {
   "cell_type": "markdown",
   "id": "11329ccb",
   "metadata": {},
   "source": [
    "## Import Dependancies"
   ]
  },
  {
   "cell_type": "code",
   "execution_count": 74,
   "id": "53b5bce5",
   "metadata": {},
   "outputs": [],
   "source": [
    "# Dependencies and Setup\n",
    "import pandas as pd\n",
    "import numpy as np\n",
    "import matplotlib.pyplot as plt\n",
    "from sklearn.neighbors import KNeighborsClassifier, KDTree\n",
    "import os\n",
    "from sklearn.model_selection import train_test_split\n",
    "from sklearn.preprocessing import LabelEncoder, StandardScaler\n",
    "from wordcloud import WordCloud, STOPWORDS\n",
    "#from sklearn.metrics import confusion_matrix, classification_report"
   ]
  },
  {
   "cell_type": "code",
   "execution_count": 2,
   "id": "2a033944",
   "metadata": {},
   "outputs": [
    {
     "data": {
      "text/html": [
       "<div>\n",
       "<style scoped>\n",
       "    .dataframe tbody tr th:only-of-type {\n",
       "        vertical-align: middle;\n",
       "    }\n",
       "\n",
       "    .dataframe tbody tr th {\n",
       "        vertical-align: top;\n",
       "    }\n",
       "\n",
       "    .dataframe thead th {\n",
       "        text-align: right;\n",
       "    }\n",
       "</style>\n",
       "<table border=\"1\" class=\"dataframe\">\n",
       "  <thead>\n",
       "    <tr style=\"text-align: right;\">\n",
       "      <th></th>\n",
       "      <th>VAERS_ID</th>\n",
       "      <th>SYMPTOM</th>\n",
       "      <th>ASSIGNED_GROUP</th>\n",
       "      <th>SEVERITY_LEVEL</th>\n",
       "      <th>HOSPITAL</th>\n",
       "      <th>AGE_YRS</th>\n",
       "      <th>AGE_GROUP</th>\n",
       "      <th>OTHER_MEDS</th>\n",
       "      <th>CUR_ILL</th>\n",
       "      <th>HISTORY</th>\n",
       "      <th>...</th>\n",
       "      <th>VAX_SITE_RA</th>\n",
       "      <th>18-25</th>\n",
       "      <th>26-35</th>\n",
       "      <th>36-45</th>\n",
       "      <th>46-55</th>\n",
       "      <th>56-65</th>\n",
       "      <th>66-75</th>\n",
       "      <th>76-85</th>\n",
       "      <th>86-95</th>\n",
       "      <th>96 +</th>\n",
       "    </tr>\n",
       "  </thead>\n",
       "  <tbody>\n",
       "    <tr>\n",
       "      <th>0</th>\n",
       "      <td>916600</td>\n",
       "      <td>Dysphagia</td>\n",
       "      <td>Difficulty swallowing</td>\n",
       "      <td>MILD</td>\n",
       "      <td>0.0</td>\n",
       "      <td>33.0</td>\n",
       "      <td>26-35</td>\n",
       "      <td>0.0</td>\n",
       "      <td>0.0</td>\n",
       "      <td>0.0</td>\n",
       "      <td>...</td>\n",
       "      <td>0.0</td>\n",
       "      <td>0</td>\n",
       "      <td>1</td>\n",
       "      <td>0</td>\n",
       "      <td>0</td>\n",
       "      <td>0</td>\n",
       "      <td>0</td>\n",
       "      <td>0</td>\n",
       "      <td>0</td>\n",
       "      <td>0</td>\n",
       "    </tr>\n",
       "    <tr>\n",
       "      <th>1</th>\n",
       "      <td>917168</td>\n",
       "      <td>Dysphagia</td>\n",
       "      <td>Difficulty swallowing</td>\n",
       "      <td>MILD</td>\n",
       "      <td>0.0</td>\n",
       "      <td>64.0</td>\n",
       "      <td>56-65</td>\n",
       "      <td>1.0</td>\n",
       "      <td>0.0</td>\n",
       "      <td>1.0</td>\n",
       "      <td>...</td>\n",
       "      <td>1.0</td>\n",
       "      <td>0</td>\n",
       "      <td>0</td>\n",
       "      <td>0</td>\n",
       "      <td>0</td>\n",
       "      <td>1</td>\n",
       "      <td>0</td>\n",
       "      <td>0</td>\n",
       "      <td>0</td>\n",
       "      <td>0</td>\n",
       "    </tr>\n",
       "    <tr>\n",
       "      <th>2</th>\n",
       "      <td>918386</td>\n",
       "      <td>Dysphagia</td>\n",
       "      <td>Difficulty swallowing</td>\n",
       "      <td>MILD</td>\n",
       "      <td>0.0</td>\n",
       "      <td>62.0</td>\n",
       "      <td>56-65</td>\n",
       "      <td>1.0</td>\n",
       "      <td>0.0</td>\n",
       "      <td>0.0</td>\n",
       "      <td>...</td>\n",
       "      <td>1.0</td>\n",
       "      <td>0</td>\n",
       "      <td>0</td>\n",
       "      <td>0</td>\n",
       "      <td>0</td>\n",
       "      <td>1</td>\n",
       "      <td>0</td>\n",
       "      <td>0</td>\n",
       "      <td>0</td>\n",
       "      <td>0</td>\n",
       "    </tr>\n",
       "    <tr>\n",
       "      <th>3</th>\n",
       "      <td>918393</td>\n",
       "      <td>Dysphagia</td>\n",
       "      <td>Difficulty swallowing</td>\n",
       "      <td>MILD</td>\n",
       "      <td>0.0</td>\n",
       "      <td>62.0</td>\n",
       "      <td>56-65</td>\n",
       "      <td>1.0</td>\n",
       "      <td>0.0</td>\n",
       "      <td>0.0</td>\n",
       "      <td>...</td>\n",
       "      <td>1.0</td>\n",
       "      <td>0</td>\n",
       "      <td>0</td>\n",
       "      <td>0</td>\n",
       "      <td>0</td>\n",
       "      <td>1</td>\n",
       "      <td>0</td>\n",
       "      <td>0</td>\n",
       "      <td>0</td>\n",
       "      <td>0</td>\n",
       "    </tr>\n",
       "    <tr>\n",
       "      <th>4</th>\n",
       "      <td>918479</td>\n",
       "      <td>Dysphagia</td>\n",
       "      <td>Difficulty swallowing</td>\n",
       "      <td>MILD</td>\n",
       "      <td>0.0</td>\n",
       "      <td>37.0</td>\n",
       "      <td>36-45</td>\n",
       "      <td>1.0</td>\n",
       "      <td>1.0</td>\n",
       "      <td>1.0</td>\n",
       "      <td>...</td>\n",
       "      <td>1.0</td>\n",
       "      <td>0</td>\n",
       "      <td>0</td>\n",
       "      <td>1</td>\n",
       "      <td>0</td>\n",
       "      <td>0</td>\n",
       "      <td>0</td>\n",
       "      <td>0</td>\n",
       "      <td>0</td>\n",
       "      <td>0</td>\n",
       "    </tr>\n",
       "  </tbody>\n",
       "</table>\n",
       "<p>5 rows × 30 columns</p>\n",
       "</div>"
      ],
      "text/plain": [
       "   VAERS_ID    SYMPTOM         ASSIGNED_GROUP SEVERITY_LEVEL  HOSPITAL  \\\n",
       "0    916600  Dysphagia  Difficulty swallowing           MILD       0.0   \n",
       "1    917168  Dysphagia  Difficulty swallowing           MILD       0.0   \n",
       "2    918386  Dysphagia  Difficulty swallowing           MILD       0.0   \n",
       "3    918393  Dysphagia  Difficulty swallowing           MILD       0.0   \n",
       "4    918479  Dysphagia  Difficulty swallowing           MILD       0.0   \n",
       "\n",
       "   AGE_YRS AGE_GROUP  OTHER_MEDS  CUR_ILL  HISTORY  ...  VAX_SITE_RA  18-25  \\\n",
       "0     33.0     26-35         0.0      0.0      0.0  ...          0.0      0   \n",
       "1     64.0     56-65         1.0      0.0      1.0  ...          1.0      0   \n",
       "2     62.0     56-65         1.0      0.0      0.0  ...          1.0      0   \n",
       "3     62.0     56-65         1.0      0.0      0.0  ...          1.0      0   \n",
       "4     37.0     36-45         1.0      1.0      1.0  ...          1.0      0   \n",
       "\n",
       "   26-35  36-45  46-55  56-65  66-75  76-85  86-95  96 +  \n",
       "0      1      0      0      0      0      0      0     0  \n",
       "1      0      0      0      1      0      0      0     0  \n",
       "2      0      0      0      1      0      0      0     0  \n",
       "3      0      0      0      1      0      0      0     0  \n",
       "4      0      1      0      0      0      0      0     0  \n",
       "\n",
       "[5 rows x 30 columns]"
      ]
     },
     "execution_count": 2,
     "metadata": {},
     "output_type": "execute_result"
    }
   ],
   "source": [
    "# File to Load (Remember to Change These)\n",
    "data = \"../Resources/FINAL_CLEAN_FILE.csv\"\n",
    "\n",
    "# read to dataframe\n",
    "data_df = pd.read_csv(data)\n",
    "data_df.head()"
   ]
  },
  {
   "cell_type": "code",
   "execution_count": 23,
   "id": "ff1aae50",
   "metadata": {},
   "outputs": [],
   "source": [
    "severity = data_df['SEVERITY_LEVEL'].unique()"
   ]
  },
  {
   "cell_type": "markdown",
   "id": "26b8d78b",
   "metadata": {},
   "source": [
    "## Prep Data For Model"
   ]
  },
  {
   "cell_type": "code",
   "execution_count": 3,
   "id": "6ff2259c",
   "metadata": {},
   "outputs": [
    {
     "data": {
      "text/html": [
       "<div>\n",
       "<style scoped>\n",
       "    .dataframe tbody tr th:only-of-type {\n",
       "        vertical-align: middle;\n",
       "    }\n",
       "\n",
       "    .dataframe tbody tr th {\n",
       "        vertical-align: top;\n",
       "    }\n",
       "\n",
       "    .dataframe thead th {\n",
       "        text-align: right;\n",
       "    }\n",
       "</style>\n",
       "<table border=\"1\" class=\"dataframe\">\n",
       "  <thead>\n",
       "    <tr style=\"text-align: right;\">\n",
       "      <th></th>\n",
       "      <th>OTHER_MEDS</th>\n",
       "      <th>CUR_ILL</th>\n",
       "      <th>HISTORY</th>\n",
       "      <th>PRIOR_VAX</th>\n",
       "      <th>ALLERGIES</th>\n",
       "      <th>F</th>\n",
       "      <th>M</th>\n",
       "      <th>JANSSEN</th>\n",
       "      <th>MODERNA</th>\n",
       "      <th>PFIZER</th>\n",
       "      <th>...</th>\n",
       "      <th>VAX_SITE_RA</th>\n",
       "      <th>18-25</th>\n",
       "      <th>26-35</th>\n",
       "      <th>36-45</th>\n",
       "      <th>46-55</th>\n",
       "      <th>56-65</th>\n",
       "      <th>66-75</th>\n",
       "      <th>76-85</th>\n",
       "      <th>86-95</th>\n",
       "      <th>96 +</th>\n",
       "    </tr>\n",
       "  </thead>\n",
       "  <tbody>\n",
       "    <tr>\n",
       "      <th>0</th>\n",
       "      <td>0.0</td>\n",
       "      <td>0.0</td>\n",
       "      <td>0.0</td>\n",
       "      <td>0.0</td>\n",
       "      <td>1.0</td>\n",
       "      <td>1.0</td>\n",
       "      <td>0.0</td>\n",
       "      <td>0.0</td>\n",
       "      <td>1.0</td>\n",
       "      <td>0.0</td>\n",
       "      <td>...</td>\n",
       "      <td>0.0</td>\n",
       "      <td>0</td>\n",
       "      <td>1</td>\n",
       "      <td>0</td>\n",
       "      <td>0</td>\n",
       "      <td>0</td>\n",
       "      <td>0</td>\n",
       "      <td>0</td>\n",
       "      <td>0</td>\n",
       "      <td>0</td>\n",
       "    </tr>\n",
       "    <tr>\n",
       "      <th>1</th>\n",
       "      <td>1.0</td>\n",
       "      <td>0.0</td>\n",
       "      <td>1.0</td>\n",
       "      <td>0.0</td>\n",
       "      <td>1.0</td>\n",
       "      <td>1.0</td>\n",
       "      <td>0.0</td>\n",
       "      <td>0.0</td>\n",
       "      <td>1.0</td>\n",
       "      <td>0.0</td>\n",
       "      <td>...</td>\n",
       "      <td>1.0</td>\n",
       "      <td>0</td>\n",
       "      <td>0</td>\n",
       "      <td>0</td>\n",
       "      <td>0</td>\n",
       "      <td>1</td>\n",
       "      <td>0</td>\n",
       "      <td>0</td>\n",
       "      <td>0</td>\n",
       "      <td>0</td>\n",
       "    </tr>\n",
       "    <tr>\n",
       "      <th>2</th>\n",
       "      <td>1.0</td>\n",
       "      <td>0.0</td>\n",
       "      <td>0.0</td>\n",
       "      <td>0.0</td>\n",
       "      <td>1.0</td>\n",
       "      <td>1.0</td>\n",
       "      <td>0.0</td>\n",
       "      <td>0.0</td>\n",
       "      <td>1.0</td>\n",
       "      <td>0.0</td>\n",
       "      <td>...</td>\n",
       "      <td>1.0</td>\n",
       "      <td>0</td>\n",
       "      <td>0</td>\n",
       "      <td>0</td>\n",
       "      <td>0</td>\n",
       "      <td>1</td>\n",
       "      <td>0</td>\n",
       "      <td>0</td>\n",
       "      <td>0</td>\n",
       "      <td>0</td>\n",
       "    </tr>\n",
       "    <tr>\n",
       "      <th>3</th>\n",
       "      <td>1.0</td>\n",
       "      <td>0.0</td>\n",
       "      <td>0.0</td>\n",
       "      <td>0.0</td>\n",
       "      <td>1.0</td>\n",
       "      <td>1.0</td>\n",
       "      <td>0.0</td>\n",
       "      <td>0.0</td>\n",
       "      <td>1.0</td>\n",
       "      <td>0.0</td>\n",
       "      <td>...</td>\n",
       "      <td>1.0</td>\n",
       "      <td>0</td>\n",
       "      <td>0</td>\n",
       "      <td>0</td>\n",
       "      <td>0</td>\n",
       "      <td>1</td>\n",
       "      <td>0</td>\n",
       "      <td>0</td>\n",
       "      <td>0</td>\n",
       "      <td>0</td>\n",
       "    </tr>\n",
       "    <tr>\n",
       "      <th>4</th>\n",
       "      <td>1.0</td>\n",
       "      <td>1.0</td>\n",
       "      <td>1.0</td>\n",
       "      <td>0.0</td>\n",
       "      <td>1.0</td>\n",
       "      <td>1.0</td>\n",
       "      <td>0.0</td>\n",
       "      <td>0.0</td>\n",
       "      <td>1.0</td>\n",
       "      <td>0.0</td>\n",
       "      <td>...</td>\n",
       "      <td>1.0</td>\n",
       "      <td>0</td>\n",
       "      <td>0</td>\n",
       "      <td>1</td>\n",
       "      <td>0</td>\n",
       "      <td>0</td>\n",
       "      <td>0</td>\n",
       "      <td>0</td>\n",
       "      <td>0</td>\n",
       "      <td>0</td>\n",
       "    </tr>\n",
       "    <tr>\n",
       "      <th>...</th>\n",
       "      <td>...</td>\n",
       "      <td>...</td>\n",
       "      <td>...</td>\n",
       "      <td>...</td>\n",
       "      <td>...</td>\n",
       "      <td>...</td>\n",
       "      <td>...</td>\n",
       "      <td>...</td>\n",
       "      <td>...</td>\n",
       "      <td>...</td>\n",
       "      <td>...</td>\n",
       "      <td>...</td>\n",
       "      <td>...</td>\n",
       "      <td>...</td>\n",
       "      <td>...</td>\n",
       "      <td>...</td>\n",
       "      <td>...</td>\n",
       "      <td>...</td>\n",
       "      <td>...</td>\n",
       "      <td>...</td>\n",
       "      <td>...</td>\n",
       "    </tr>\n",
       "    <tr>\n",
       "      <th>26477</th>\n",
       "      <td>1.0</td>\n",
       "      <td>0.0</td>\n",
       "      <td>1.0</td>\n",
       "      <td>1.0</td>\n",
       "      <td>1.0</td>\n",
       "      <td>0.0</td>\n",
       "      <td>1.0</td>\n",
       "      <td>0.0</td>\n",
       "      <td>1.0</td>\n",
       "      <td>0.0</td>\n",
       "      <td>...</td>\n",
       "      <td>0.0</td>\n",
       "      <td>0</td>\n",
       "      <td>0</td>\n",
       "      <td>0</td>\n",
       "      <td>0</td>\n",
       "      <td>0</td>\n",
       "      <td>1</td>\n",
       "      <td>0</td>\n",
       "      <td>0</td>\n",
       "      <td>0</td>\n",
       "    </tr>\n",
       "    <tr>\n",
       "      <th>26478</th>\n",
       "      <td>1.0</td>\n",
       "      <td>1.0</td>\n",
       "      <td>1.0</td>\n",
       "      <td>0.0</td>\n",
       "      <td>1.0</td>\n",
       "      <td>1.0</td>\n",
       "      <td>0.0</td>\n",
       "      <td>0.0</td>\n",
       "      <td>0.0</td>\n",
       "      <td>1.0</td>\n",
       "      <td>...</td>\n",
       "      <td>1.0</td>\n",
       "      <td>0</td>\n",
       "      <td>0</td>\n",
       "      <td>0</td>\n",
       "      <td>0</td>\n",
       "      <td>0</td>\n",
       "      <td>0</td>\n",
       "      <td>1</td>\n",
       "      <td>0</td>\n",
       "      <td>0</td>\n",
       "    </tr>\n",
       "    <tr>\n",
       "      <th>26479</th>\n",
       "      <td>1.0</td>\n",
       "      <td>1.0</td>\n",
       "      <td>1.0</td>\n",
       "      <td>0.0</td>\n",
       "      <td>1.0</td>\n",
       "      <td>0.0</td>\n",
       "      <td>1.0</td>\n",
       "      <td>0.0</td>\n",
       "      <td>0.0</td>\n",
       "      <td>1.0</td>\n",
       "      <td>...</td>\n",
       "      <td>1.0</td>\n",
       "      <td>0</td>\n",
       "      <td>0</td>\n",
       "      <td>0</td>\n",
       "      <td>0</td>\n",
       "      <td>0</td>\n",
       "      <td>0</td>\n",
       "      <td>1</td>\n",
       "      <td>0</td>\n",
       "      <td>0</td>\n",
       "    </tr>\n",
       "    <tr>\n",
       "      <th>26480</th>\n",
       "      <td>0.0</td>\n",
       "      <td>0.0</td>\n",
       "      <td>1.0</td>\n",
       "      <td>0.0</td>\n",
       "      <td>0.0</td>\n",
       "      <td>1.0</td>\n",
       "      <td>0.0</td>\n",
       "      <td>0.0</td>\n",
       "      <td>0.0</td>\n",
       "      <td>1.0</td>\n",
       "      <td>...</td>\n",
       "      <td>1.0</td>\n",
       "      <td>0</td>\n",
       "      <td>0</td>\n",
       "      <td>0</td>\n",
       "      <td>0</td>\n",
       "      <td>0</td>\n",
       "      <td>0</td>\n",
       "      <td>1</td>\n",
       "      <td>0</td>\n",
       "      <td>0</td>\n",
       "    </tr>\n",
       "    <tr>\n",
       "      <th>26481</th>\n",
       "      <td>1.0</td>\n",
       "      <td>0.0</td>\n",
       "      <td>1.0</td>\n",
       "      <td>0.0</td>\n",
       "      <td>0.0</td>\n",
       "      <td>0.0</td>\n",
       "      <td>1.0</td>\n",
       "      <td>0.0</td>\n",
       "      <td>1.0</td>\n",
       "      <td>0.0</td>\n",
       "      <td>...</td>\n",
       "      <td>0.0</td>\n",
       "      <td>0</td>\n",
       "      <td>1</td>\n",
       "      <td>0</td>\n",
       "      <td>0</td>\n",
       "      <td>0</td>\n",
       "      <td>0</td>\n",
       "      <td>0</td>\n",
       "      <td>0</td>\n",
       "      <td>0</td>\n",
       "    </tr>\n",
       "  </tbody>\n",
       "</table>\n",
       "<p>26482 rows × 23 columns</p>\n",
       "</div>"
      ],
      "text/plain": [
       "       OTHER_MEDS  CUR_ILL  HISTORY  PRIOR_VAX  ALLERGIES    F    M  JANSSEN  \\\n",
       "0             0.0      0.0      0.0        0.0        1.0  1.0  0.0      0.0   \n",
       "1             1.0      0.0      1.0        0.0        1.0  1.0  0.0      0.0   \n",
       "2             1.0      0.0      0.0        0.0        1.0  1.0  0.0      0.0   \n",
       "3             1.0      0.0      0.0        0.0        1.0  1.0  0.0      0.0   \n",
       "4             1.0      1.0      1.0        0.0        1.0  1.0  0.0      0.0   \n",
       "...           ...      ...      ...        ...        ...  ...  ...      ...   \n",
       "26477         1.0      0.0      1.0        1.0        1.0  0.0  1.0      0.0   \n",
       "26478         1.0      1.0      1.0        0.0        1.0  1.0  0.0      0.0   \n",
       "26479         1.0      1.0      1.0        0.0        1.0  0.0  1.0      0.0   \n",
       "26480         0.0      0.0      1.0        0.0        0.0  1.0  0.0      0.0   \n",
       "26481         1.0      0.0      1.0        0.0        0.0  0.0  1.0      0.0   \n",
       "\n",
       "       MODERNA  PFIZER  ...  VAX_SITE_RA  18-25  26-35  36-45  46-55  56-65  \\\n",
       "0          1.0     0.0  ...          0.0      0      1      0      0      0   \n",
       "1          1.0     0.0  ...          1.0      0      0      0      0      1   \n",
       "2          1.0     0.0  ...          1.0      0      0      0      0      1   \n",
       "3          1.0     0.0  ...          1.0      0      0      0      0      1   \n",
       "4          1.0     0.0  ...          1.0      0      0      1      0      0   \n",
       "...        ...     ...  ...          ...    ...    ...    ...    ...    ...   \n",
       "26477      1.0     0.0  ...          0.0      0      0      0      0      0   \n",
       "26478      0.0     1.0  ...          1.0      0      0      0      0      0   \n",
       "26479      0.0     1.0  ...          1.0      0      0      0      0      0   \n",
       "26480      0.0     1.0  ...          1.0      0      0      0      0      0   \n",
       "26481      1.0     0.0  ...          0.0      0      1      0      0      0   \n",
       "\n",
       "       66-75  76-85  86-95  96 +  \n",
       "0          0      0      0     0  \n",
       "1          0      0      0     0  \n",
       "2          0      0      0     0  \n",
       "3          0      0      0     0  \n",
       "4          0      0      0     0  \n",
       "...      ...    ...    ...   ...  \n",
       "26477      1      0      0     0  \n",
       "26478      0      1      0     0  \n",
       "26479      0      1      0     0  \n",
       "26480      0      1      0     0  \n",
       "26481      0      0      0     0  \n",
       "\n",
       "[26482 rows x 23 columns]"
      ]
     },
     "execution_count": 3,
     "metadata": {},
     "output_type": "execute_result"
    }
   ],
   "source": [
    "# create train data\n",
    "X = data_df.drop(['VAERS_ID', 'SYMPTOM','ASSIGNED_GROUP','SEVERITY_LEVEL','HOSPITAL','AGE_YRS', 'AGE_GROUP'], axis=1)\n",
    "X"
   ]
  },
  {
   "cell_type": "code",
   "execution_count": 18,
   "id": "d08c1eb7",
   "metadata": {},
   "outputs": [
    {
     "data": {
      "text/plain": [
       "array([0, 0, 0, ..., 2, 1, 1])"
      ]
     },
     "execution_count": 18,
     "metadata": {},
     "output_type": "execute_result"
    }
   ],
   "source": [
    "# convert the serverity labels to numbers and create the target data\n",
    "y = LabelEncoder().fit_transform(data_df['SEVERITY_LEVEL'])\n",
    "y"
   ]
  },
  {
   "cell_type": "code",
   "execution_count": 6,
   "id": "0efaccac",
   "metadata": {},
   "outputs": [],
   "source": [
    "# split into train and test\n",
    "X_train, X_test, y_train, y_test = train_test_split(X, y, random_state=7)"
   ]
  },
  {
   "cell_type": "code",
   "execution_count": 7,
   "id": "b8b40ac6",
   "metadata": {},
   "outputs": [],
   "source": [
    "# Scaling the train data with StandardScaler()\n",
    "scaler = StandardScaler().fit(X_train)\n",
    "X_train_scaled = scaler.transform(X_train)\n",
    "X_test_scaled = scaler.transform(X_test)"
   ]
  },
  {
   "cell_type": "markdown",
   "id": "c8d19f42",
   "metadata": {},
   "source": [
    "## Testing KNN to Determine Best k value"
   ]
  },
  {
   "cell_type": "code",
   "execution_count": 8,
   "id": "a7ec02b6",
   "metadata": {},
   "outputs": [
    {
     "name": "stdout",
     "output_type": "stream",
     "text": [
      "k: 1, Train/Test Score: 0.863/0.827\n",
      "k: 3, Train/Test Score: 0.892/0.883\n",
      "k: 5, Train/Test Score: 0.899/0.893\n",
      "k: 7, Train/Test Score: 0.900/0.897\n",
      "k: 9, Train/Test Score: 0.900/0.898\n",
      "k: 11, Train/Test Score: 0.900/0.897\n",
      "k: 13, Train/Test Score: 0.900/0.897\n",
      "k: 15, Train/Test Score: 0.900/0.899\n",
      "k: 17, Train/Test Score: 0.900/0.899\n",
      "k: 19, Train/Test Score: 0.900/0.899\n"
     ]
    },
    {
     "data": {
      "image/png": "[encoded data removed]",
      "text/plain": [
       "<Figure size 432x288 with 1 Axes>"
      ]
     },
     "metadata": {
      "needs_background": "light"
     },
     "output_type": "display_data"
    }
   ],
   "source": [
    "# Loop through different k values to find which has the highest accuracy.\n",
    "# Note: We use only odd numbers because we don't want any ties.\n",
    "train_scores = []\n",
    "test_scores = []\n",
    "for k in range(1, 20, 2):\n",
    "    knn = KNeighborsClassifier(n_neighbors=k)\n",
    "    knn.fit(X_train_scaled, y_train)\n",
    "    train_score = knn.score(X_train_scaled, y_train)\n",
    "    test_score = knn.score(X_test_scaled, y_test)\n",
    "    train_scores.append(train_score)\n",
    "    test_scores.append(test_score)\n",
    "    print(f\"k: {k}, Train/Test Score: {train_score:.3f}/{test_score:.3f}\")\n",
    "    \n",
    "    \n",
    "plt.plot(range(1, 20, 2), train_scores, marker='o')\n",
    "plt.plot(range(1, 20, 2), test_scores, marker=\"x\")\n",
    "plt.xlabel(\"k neighbors\")\n",
    "plt.ylabel(\"Testing accuracy score\")\n",
    "plt.show()"
   ]
  },
  {
   "cell_type": "markdown",
   "id": "6822e2c8",
   "metadata": {},
   "source": [
    "Based on the scores above, we will move forward with 5 neighbors for our model. This was run on 3 random states (33, 42, 7) and all began to stabilize at k=5. "
   ]
  },
  {
   "cell_type": "markdown",
   "id": "48227892",
   "metadata": {},
   "source": [
    "## Create KNN Model "
   ]
  },
  {
   "cell_type": "code",
   "execution_count": 9,
   "id": "536ea812",
   "metadata": {},
   "outputs": [
    {
     "name": "stdout",
     "output_type": "stream",
     "text": [
      "k=5 Test Acc: 0.893\n"
     ]
    }
   ],
   "source": [
    "# Note that k: 5 provides the best accuracy where the classifier starts to stablize\n",
    "knn = KNeighborsClassifier(n_neighbors=5)\n",
    "knn.fit(X_train_scaled, y_train)\n",
    "print('k=5 Test Acc: %.3f' % knn.score(X_test_scaled, y_test))"
   ]
  },
  {
   "cell_type": "code",
   "execution_count": 59,
   "id": "878ee23d",
   "metadata": {},
   "outputs": [
    {
     "data": {
      "text/plain": [
       "Index(['OTHER_MEDS', 'CUR_ILL', 'HISTORY', 'PRIOR_VAX', 'ALLERGIES', 'F', 'M',\n",
       "       'JANSSEN', 'MODERNA', 'PFIZER', 'VAX_DOSE_SERIES_1',\n",
       "       'VAX_DOSE_SERIES_2', 'VAX_SITE_LA', 'VAX_SITE_RA', '18-25', '26-35',\n",
       "       '36-45', '46-55', '56-65', '66-75', '76-85', '86-95', '96 +'],\n",
       "      dtype='object')"
      ]
     },
     "execution_count": 59,
     "metadata": {},
     "output_type": "execute_result"
    }
   ],
   "source": [
    "X.columns"
   ]
  },
  {
   "cell_type": "code",
   "execution_count": 60,
   "id": "056a1bd3",
   "metadata": {},
   "outputs": [
    {
     "name": "stdout",
     "output_type": "stream",
     "text": [
      "['MILD']\n"
     ]
    }
   ],
   "source": [
    "# Sample Prediction 1\n",
    "sample_user1 = [[0,0,0,1,1,1,0,0,0,1,0,1,1,0,0,1,0,0,0,0,0,0,0]]\n",
    "predicted_symptoms = knn.predict(sample_user1)\n",
    "print(severity[predicted_symptoms])"
   ]
  },
  {
   "cell_type": "code",
   "execution_count": 93,
   "id": "aa050a7b",
   "metadata": {},
   "outputs": [
    {
     "name": "stdout",
     "output_type": "stream",
     "text": [
      "[5421, 6329, 19238, 3158, 12221, 20622, 2365, 6325, 12530, 15023, 14602, 20363, 18004, 21448, 21829, 4837, 5086, 7091, 337, 335, 9524, 16324, 4516, 12200, 2051, 167, 10237, 14879, 8516, 13048, 8460, 13330, 13042, 4614, 10198, 4657, 7031, 6951, 4507, 8848, 7045, 4831, 348, 8382, 12222, 11861, 543, 10896, 1446, 1797, 8391, 8579, 5819, 5805, 4968, 8356, 4972, 4389, 5186, 7216, 7214, 5195, 7293, 5221, 8892, 186, 10784, 1744, 8358, 4715, 4724, 4635, 7035, 3340, 4763, 6931, 12479, 4457, 4147, 8828, 5352, 7027, 7642, 5019, 8870, 3017, 4953, 377, 584, 12019, 11585, 4720, 10176, 8219, 11668, 11214, 8357, 12790, 12627, 4662]\n"
     ]
    }
   ],
   "source": [
    "# 5 people closest to user 1\n",
    "tree = KDTree(X)\n",
    "dist, ind = tree.query(sample_user1, k=100)\n",
    "\n",
    "#convery ndarry to list \n",
    "like_users = ind[0].tolist()\n",
    "print(like_users)  # indices of 5 closest neighbors"
   ]
  },
  {
   "cell_type": "code",
   "execution_count": 94,
   "id": "6187bec8",
   "metadata": {},
   "outputs": [
    {
     "data": {
      "text/plain": [
       "['Chills',\n",
       " 'Injection site pain',\n",
       " 'Injection site pruritus',\n",
       " 'Nausea',\n",
       " 'Pyrexia']"
      ]
     },
     "execution_count": 94,
     "metadata": {},
     "output_type": "execute_result"
    }
   ],
   "source": [
    "# save nearest 50 neighbors symptoms as list for wordcloud\n",
    "predicted_symptoms = data_df['SYMPTOM'].iloc[like_users].tolist()\n",
    "predicted_symptoms[:5]"
   ]
  },
  {
   "cell_type": "code",
   "execution_count": 95,
   "id": "1516f5cb",
   "metadata": {},
   "outputs": [
    {
     "data": {
      "image/png": "[encoded data removed]",
      "text/plain": [
       "<Figure size 1080x576 with 1 Axes>"
      ]
     },
     "metadata": {
      "needs_background": "light"
     },
     "output_type": "display_data"
    }
   ],
   "source": [
    "#convert list to string and generate\n",
    "unique_string=(\" \").join(predicted_symptoms)\n",
    "\n",
    "#create circle mask\n",
    "x, y = np.ogrid[:300, :300]\n",
    "mask = (x - 150) ** 2 + (y - 150) ** 2 > 130 ** 2\n",
    "mask = 255 * mask.astype(int)\n",
    "\n",
    "wordcloud = WordCloud(width = 1000, height = 500, mask=mask).generate(unique_string)\n",
    "plt.figure(figsize=(15,8))\n",
    "plt.imshow(wordcloud)\n",
    "plt.axis(\"off\")\n",
    "#plt.savefig(\"your_file_name\"+\".png\", bbox_inches='tight')\n",
    "plt.show()\n",
    "plt.close()"
   ]
  },
  {
   "cell_type": "code",
   "execution_count": 25,
   "id": "fc669146",
   "metadata": {},
   "outputs": [
    {
     "name": "stdout",
     "output_type": "stream",
     "text": [
      "['MILD']\n"
     ]
    }
   ],
   "source": [
    "# Sample Prediction 2\n",
    "sample_user2 = [[0,0,0,1,1,1,0,1,0,0,0,0,0,0,0,0,0,0,0,0,1,0,0]]\n",
    "predicted_symptoms = knn.predict(sample_user2)\n",
    "print(severity[predicted_symptoms])"
   ]
  },
  {
   "cell_type": "code",
   "execution_count": null,
   "id": "e760161d",
   "metadata": {},
   "outputs": [],
   "source": [
    "merge2_df.head()"
   ]
  },
  {
   "cell_type": "code",
   "execution_count": null,
   "id": "61628695",
   "metadata": {},
   "outputs": [],
   "source": [
    "merge2_df.to_csv('training_data.csv')"
   ]
  },
  {
   "cell_type": "code",
   "execution_count": 30,
   "id": "3b553ed5",
   "metadata": {},
   "outputs": [
    {
     "ename": "ValueError",
     "evalue": "query data dimension must match training data dimension",
     "output_type": "error",
     "traceback": [
      "\u001b[1;31m---------------------------------------------------------------------------\u001b[0m",
      "\u001b[1;31mValueError\u001b[0m                                Traceback (most recent call last)",
      "\u001b[1;32m<ipython-input-30-5d3001b1e105>\u001b[0m in \u001b[0;36m<module>\u001b[1;34m\u001b[0m\n\u001b[0;32m      1\u001b[0m \u001b[0mtree\u001b[0m \u001b[1;33m=\u001b[0m \u001b[0mKDTree\u001b[0m\u001b[1;33m(\u001b[0m\u001b[0mX\u001b[0m\u001b[1;33m)\u001b[0m\u001b[1;33m\u001b[0m\u001b[1;33m\u001b[0m\u001b[0m\n\u001b[1;32m----> 2\u001b[1;33m \u001b[0mind\u001b[0m \u001b[1;33m=\u001b[0m \u001b[0mtree\u001b[0m\u001b[1;33m.\u001b[0m\u001b[0mquery\u001b[0m\u001b[1;33m(\u001b[0m\u001b[1;33m[\u001b[0m\u001b[1;33m[\u001b[0m\u001b[1;36m1.25\u001b[0m\u001b[1;33m,\u001b[0m \u001b[1;36m1.35\u001b[0m\u001b[1;33m]\u001b[0m\u001b[1;33m]\u001b[0m\u001b[1;33m,\u001b[0m \u001b[0mk\u001b[0m\u001b[1;33m=\u001b[0m\u001b[1;36m5\u001b[0m\u001b[1;33m)\u001b[0m\u001b[1;33m\u001b[0m\u001b[1;33m\u001b[0m\u001b[0m\n\u001b[0m\u001b[0;32m      3\u001b[0m \u001b[0mprint\u001b[0m\u001b[1;33m(\u001b[0m\u001b[0mind\u001b[0m\u001b[1;33m)\u001b[0m  \u001b[1;31m# indices of 5 closest neighbors\u001b[0m\u001b[1;33m\u001b[0m\u001b[1;33m\u001b[0m\u001b[0m\n\u001b[0;32m      4\u001b[0m \u001b[1;33m\u001b[0m\u001b[0m\n\u001b[0;32m      5\u001b[0m \u001b[1;33m\u001b[0m\u001b[0m\n",
      "\u001b[1;32msklearn\\neighbors\\_binary_tree.pxi\u001b[0m in \u001b[0;36msklearn.neighbors._kd_tree.BinaryTree.query\u001b[1;34m()\u001b[0m\n",
      "\u001b[1;31mValueError\u001b[0m: query data dimension must match training data dimension"
     ]
    }
   ],
   "source": [
    "tree = KDTree(X)\n",
    "ind = tree.query([[1.25, 1.35]], k=5)\n",
    "print(ind)  # indices of 5 closest neighbors\n",
    "\n",
    "\n",
    "print('People like you reported the following symptoms:')"
   ]
  },
  {
   "cell_type": "code",
   "execution_count": null,
   "id": "a94c11fa",
   "metadata": {},
   "outputs": [],
   "source": []
  }
 ],
 "metadata": {
  "kernelspec": {
   "display_name": "PythonData",
   "language": "python",
   "name": "pythondata"
  },
  "language_info": {
   "codemirror_mode": {
    "name": "ipython",
    "version": 3
   },
   "file_extension": ".py",
   "mimetype": "text/x-python",
   "name": "python",
   "nbconvert_exporter": "python",
   "pygments_lexer": "ipython3",
   "version": "3.8.8"
  }
 },
 "nbformat": 4,
 "nbformat_minor": 5
}
